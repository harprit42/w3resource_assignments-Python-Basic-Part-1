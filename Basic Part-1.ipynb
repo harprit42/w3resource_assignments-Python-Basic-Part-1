{
 "cells": [
  {
   "cell_type": "markdown",
   "metadata": {},
   "source": [
    "1. Write a Python program to print the following string in a specific format (see the output). Go to the editor\n",
    "Sample String : \"Twinkle, twinkle, little star, How I wonder what you are! Up above the world so high, Like a diamond in the sky. Twinkle, twinkle, little star, How I wonder what you are\" Output :\n",
    "\n",
    "Twinkle, twinkle, little star,\n",
    "\tHow I wonder what you are! \n",
    "\t\tUp above the world so high,   \t\t\n",
    "\t\tLike a diamond in the sky. \n",
    "Twinkle, twinkle, little star, \n",
    "\tHow I wonder what you are"
   ]
  },
  {
   "cell_type": "code",
   "execution_count": null,
   "metadata": {},
   "outputs": [],
   "source": [
    "print(\"Twinkle, twinkle, little star, \\n\\tHow I wonder what you are! \\n\\t\\tUp above the world so high, \"\n",
    "      \"\\n\\t\\tLike a diamond in the sky. \\nTwinkle, twinkle, little star, \\n\\tHow I wonder what you are\")"
   ]
  },
  {
   "cell_type": "markdown",
   "metadata": {},
   "source": [
    "2. Write a Python program to get the Python version you are using."
   ]
  },
  {
   "cell_type": "code",
   "execution_count": null,
   "metadata": {},
   "outputs": [],
   "source": [
    "from platform import python_version\n",
    "\n",
    "print(python_version())"
   ]
  },
  {
   "cell_type": "code",
   "execution_count": null,
   "metadata": {},
   "outputs": [],
   "source": [
    "import sys\n",
    "print(\"Python version\")\n",
    "print (sys.version)\n",
    "print(\"Version info.\")\n",
    "print (sys.version_info)"
   ]
  },
  {
   "cell_type": "markdown",
   "metadata": {},
   "source": [
    "3. Write a Python program to display the current date and time.\n",
    "Sample Output :\n",
    "Current date and time :\n",
    "2014-07-05 14:34:14"
   ]
  },
  {
   "cell_type": "code",
   "execution_count": null,
   "metadata": {},
   "outputs": [],
   "source": [
    "import datetime\n",
    "print('Current date and time : ',datetime.datetime.now().strftime(\"%Y-%m-%d %H:%M:%S\"))"
   ]
  },
  {
   "cell_type": "markdown",
   "metadata": {},
   "source": [
    "4. Write a Python program which accepts the radius of a circle from the user and compute the area."
   ]
  },
  {
   "cell_type": "code",
   "execution_count": null,
   "metadata": {},
   "outputs": [],
   "source": [
    "from math import pi\n",
    "rad = float(input(\"Please enter the radius of the circle\\n\"))\n",
    "area = pi*(rad**2)\n",
    "print(\"Area of the circle is : \", area)"
   ]
  },
  {
   "cell_type": "markdown",
   "metadata": {},
   "source": [
    "5. Write a Python program which accepts the user's first and last name and print them in reverse order with a space between them."
   ]
  },
  {
   "cell_type": "code",
   "execution_count": null,
   "metadata": {},
   "outputs": [],
   "source": [
    "first_name = input(\"Please enter your first name\\n\")\n",
    "last_name = input(\"Please enter your last name\\n\")\n",
    "print(last_name + ' ' + first_name)"
   ]
  },
  {
   "cell_type": "markdown",
   "metadata": {},
   "source": [
    "6. Write a Python program which accepts a sequence of comma-separated numbers from user and generate a list and a tuple with those numbers. Go to the editor\n",
    "Sample data : 3, 5, 7, 23\n",
    "Output :\n",
    "List : ['3', ' 5', ' 7', ' 23']\n",
    "Tuple : ('3', ' 5', ' 7', ' 23')"
   ]
  },
  {
   "cell_type": "code",
   "execution_count": null,
   "metadata": {},
   "outputs": [],
   "source": [
    "inp = input(\"Please enter the values separated by comma\")\n",
    "out_list = inp.split(\",\")\n",
    "out_tuple = tuple(out_list)\n",
    "print(out_list)\n",
    "print(out_tuple)"
   ]
  },
  {
   "cell_type": "code",
   "execution_count": null,
   "metadata": {},
   "outputs": [],
   "source": [
    "print(out_list)"
   ]
  },
  {
   "cell_type": "markdown",
   "metadata": {},
   "source": [
    "7. Write a Python program to accept a filename from the user and print the extension of that. Go to the editor\n",
    "Sample filename : abc.java\n",
    "Output : java"
   ]
  },
  {
   "cell_type": "code",
   "execution_count": null,
   "metadata": {},
   "outputs": [],
   "source": [
    "file_name = input(\"Please enter the file name\")\n",
    "extension = file_name.split('.')[-1]\n",
    "print(extension)"
   ]
  },
  {
   "cell_type": "markdown",
   "metadata": {},
   "source": [
    "8. Write a Python program to display the first and last colors from the following list. Go to the editor\n",
    "color_list = [\"Red\",\"Green\",\"White\" ,\"Black\"]"
   ]
  },
  {
   "cell_type": "code",
   "execution_count": null,
   "metadata": {},
   "outputs": [],
   "source": [
    "color_list = [\"Red\",\"Green\",\"White\" ,\"Black\"]\n",
    "print(color_list[0])\n",
    "print(color_list[-1])"
   ]
  },
  {
   "cell_type": "markdown",
   "metadata": {},
   "source": [
    "9. Write a Python program to display the examination schedule. (extract the date from exam_st_date). Go to the editor\n",
    "exam_st_date = (11, 12, 2014)\n",
    "Sample Output : The examination will start from : 11 / 12 / 2014"
   ]
  },
  {
   "cell_type": "code",
   "execution_count": null,
   "metadata": {},
   "outputs": [],
   "source": [
    "exam_st_date = (11, 12, 2014)\n",
    "print(\"The examination will start from %i/ %i/ %i\"%exam_st_date)"
   ]
  },
  {
   "cell_type": "markdown",
   "metadata": {},
   "source": [
    "10. Write a Python program that accepts an integer (n) and computes the value of n+nn+nnn. Go to the editor\n",
    "Sample value of n is 5\n",
    "Expected Result : 615"
   ]
  },
  {
   "cell_type": "code",
   "execution_count": null,
   "metadata": {},
   "outputs": [],
   "source": [
    "n = int(input(\"Please enter the number\"))\n",
    "n1 = int(\"%s\"%n)\n",
    "n2 = int(\"%s%s\"%(n,n))\n",
    "n3 = int(\"%s%s%s\"%(n,n,n))\n",
    "\n",
    "print(\"Result : \", n1+n2+n3)"
   ]
  },
  {
   "cell_type": "markdown",
   "metadata": {},
   "source": [
    "11. Write a Python program to print the documents (syntax, description etc.) of Python built-in function(s).\n",
    "Sample function : abs()\n",
    "Expected Result :\n",
    "abs(number) -> number\n",
    "Return the absolute value of the argument."
   ]
  },
  {
   "cell_type": "code",
   "execution_count": null,
   "metadata": {},
   "outputs": [],
   "source": [
    "print(abs.__doc__)"
   ]
  },
  {
   "cell_type": "markdown",
   "metadata": {},
   "source": [
    "12. Write a Python program to print the calendar of a given month and year.\n",
    "Note : Use 'calendar' module."
   ]
  },
  {
   "cell_type": "code",
   "execution_count": null,
   "metadata": {},
   "outputs": [],
   "source": [
    "y = int(input(\"Please enter number of the year\"))\n",
    "m = int(input(\"Please enter the number of the month\"))\n",
    "print(calendar.month(y,m))"
   ]
  },
  {
   "cell_type": "markdown",
   "metadata": {},
   "source": [
    "13. Write a Python program to print the following here document. Go to the editor\n",
    "Sample string :\n",
    "a string that you \"don't\" have to escape\n",
    "This\n",
    "is a ....... multi-line\n",
    "heredoc string --------> example"
   ]
  },
  {
   "cell_type": "code",
   "execution_count": null,
   "metadata": {},
   "outputs": [],
   "source": [
    "print(\"\"\"a string that you \"don't\" have to escape\n",
    "This\n",
    "is a ....... multi-line\n",
    "heredoc string --------> example\n",
    "\"\"\")"
   ]
  },
  {
   "cell_type": "markdown",
   "metadata": {},
   "source": [
    "14. Write a Python program to calculate number of days between two dates.\n",
    "Sample dates : (2014, 7, 2), (2014, 7, 11)\n",
    "Expected output : 9 days"
   ]
  },
  {
   "cell_type": "code",
   "execution_count": null,
   "metadata": {},
   "outputs": [],
   "source": [
    "from datetime import date\n",
    "f_date = date(2014,7,2)\n",
    "l_date = date(2015,7,2)\n",
    "delta = l_date - f_date\n",
    "print(delta.days)"
   ]
  },
  {
   "cell_type": "markdown",
   "metadata": {},
   "source": [
    "15. Write a Python program to get the volume of a sphere with radius 6."
   ]
  },
  {
   "cell_type": "code",
   "execution_count": null,
   "metadata": {},
   "outputs": [],
   "source": [
    "from math import pi\n",
    "rad = 6\n",
    "vol = (4/3)*pi*rad**3\n",
    "print(vol)"
   ]
  },
  {
   "cell_type": "markdown",
   "metadata": {},
   "source": [
    "16. Write a Python program to get the difference between a given number and 17, if the number is greater than 17 return double the absolute difference."
   ]
  },
  {
   "cell_type": "code",
   "execution_count": null,
   "metadata": {},
   "outputs": [],
   "source": [
    "num = int(input(\"Please enter the number\"))\n",
    "if num > 17:\n",
    "    print(2*(num-17))\n",
    "else:\n",
    "    print(17-num)"
   ]
  },
  {
   "cell_type": "markdown",
   "metadata": {},
   "source": [
    "17. Write a Python program to test whether a number is within 100 of 1000 or 2000."
   ]
  },
  {
   "cell_type": "code",
   "execution_count": null,
   "metadata": {},
   "outputs": [],
   "source": [
    "def near_thousand(n):\n",
    "    return (abs(1000-n)<=100) or (abs(2000-n)<=100)\n",
    "\n",
    "print(near_thousand(800))\n",
    "print(near_thousand(1100))"
   ]
  },
  {
   "cell_type": "markdown",
   "metadata": {},
   "source": [
    "18. Write a Python program to calculate the sum of three given numbers, if the values are equal then return three times of their sum."
   ]
  },
  {
   "cell_type": "code",
   "execution_count": null,
   "metadata": {},
   "outputs": [],
   "source": [
    "def sum_of_3_numbers(a,b,c):\n",
    "    if a==b==c:\n",
    "        return (a+b+c) * 3\n",
    "    else:\n",
    "        return a+b+c\n",
    "\n",
    "print(sum_of_3_numbers(1,5,6))\n",
    "print(sum_of_3_numbers(6,6,6))"
   ]
  },
  {
   "cell_type": "markdown",
   "metadata": {},
   "source": [
    "19. Write a Python program to get a new string from a given string where \"Is\" has been added to the front. If the given string already begins with \"Is\" then return the string unchanged. "
   ]
  },
  {
   "cell_type": "code",
   "execution_count": null,
   "metadata": {},
   "outputs": [],
   "source": [
    "def new_string(s):\n",
    "    if len(s) >= 2 and s[:2] == 'Is':\n",
    "        return s\n",
    "    return \"Is\" + s\n",
    "    \n",
    "print(new_string('this is a string'))\n",
    "print(new_string('Is this a new string?'))"
   ]
  },
  {
   "cell_type": "markdown",
   "metadata": {},
   "source": [
    "20. Write a Python program to get a string which is n (non-negative integer) copies of a given string."
   ]
  },
  {
   "cell_type": "code",
   "execution_count": null,
   "metadata": {},
   "outputs": [],
   "source": [
    "def copies_of_str(s, n):\n",
    "    if n>1:\n",
    "        return s*n\n",
    "    return s\n",
    "\n",
    "print(copies_of_str('ab',5))"
   ]
  },
  {
   "cell_type": "markdown",
   "metadata": {},
   "source": [
    "21. Write a Python program to find whether a given number (accept from the user) is even or odd, print out an appropriate message to the user."
   ]
  },
  {
   "cell_type": "code",
   "execution_count": null,
   "metadata": {},
   "outputs": [],
   "source": [
    "n = int(input('Please enter a number'))\n",
    "if n % 2 == 0:\n",
    "    print('Even')\n",
    "else:\n",
    "    print('Odd')"
   ]
  },
  {
   "cell_type": "markdown",
   "metadata": {},
   "source": [
    "22. Write a Python program to count the number 4 in a given list."
   ]
  },
  {
   "cell_type": "code",
   "execution_count": null,
   "metadata": {},
   "outputs": [],
   "source": [
    "def count4(my_list):\n",
    "    i = 0\n",
    "    for j in my_list:\n",
    "        if j == 4:\n",
    "            i+=1\n",
    "    return i\n",
    "\n",
    "print(count4([4,5,6,4,1,3,5,6,4,4,7,8]))"
   ]
  },
  {
   "cell_type": "markdown",
   "metadata": {},
   "source": [
    "23. Write a Python program to get the n (non-negative integer) copies of the first 2 characters of a given string. Return the n copies of the whole string if the length is less than 2. "
   ]
  },
  {
   "cell_type": "code",
   "execution_count": null,
   "metadata": {},
   "outputs": [],
   "source": [
    "def copies_of_str(s, n):\n",
    "    if len(s)<2:\n",
    "        return s*n\n",
    "    else:\n",
    "        return s[:2]*n\n",
    "    \n",
    "print(copies_of_str('abc',5))\n",
    "print(copies_of_str('a',3))"
   ]
  },
  {
   "cell_type": "code",
   "execution_count": null,
   "metadata": {},
   "outputs": [],
   "source": [
    "a = input(\"please enter a letter\\n\")\n",
    "if len(a) == 1:\n",
    "    print(a in 'aeiou')\n"
   ]
  },
  {
   "cell_type": "markdown",
   "metadata": {},
   "source": [
    "25. Write a Python program to check whether a specified value is contained in a group of values.\n",
    "\n",
    "Test Data :\n",
    "\n",
    "3 -> [1, 5, 8, 3] : True\n",
    "\n",
    "-1 -> [1, 5, 8, 3] : False"
   ]
  },
  {
   "cell_type": "code",
   "execution_count": null,
   "metadata": {},
   "outputs": [],
   "source": [
    "def val_check(n):\n",
    "    return n in [1,5,8,3]\n",
    "\n",
    "print(val_check(3))\n",
    "print(val_check(-1))"
   ]
  },
  {
   "cell_type": "markdown",
   "metadata": {},
   "source": [
    "26. Write a Python program to create a histogram from a given list of integers."
   ]
  },
  {
   "cell_type": "code",
   "execution_count": null,
   "metadata": {},
   "outputs": [],
   "source": [
    "def histogram(items):\n",
    "    \n",
    "    for i in items:\n",
    "        out = ''\n",
    "        j = len(items)\n",
    "        while j>1:\n",
    "            out = i*'*'\n",
    "            j-=1\n",
    "        print(out)\n",
    "        \n",
    "#print(histogram([2,3,5,4]))\n",
    "'''\n",
    "def histogram( items ):\n",
    "    for n in items:\n",
    "        output = ''\n",
    "        times = n\n",
    "        while( times > 0 ):\n",
    "          output += '*'\n",
    "          times = times - 1\n",
    "        print(output)\n",
    "'''\n",
    "histogram([2, 3, 6, 5])"
   ]
  },
  {
   "cell_type": "markdown",
   "metadata": {},
   "source": [
    "27. Write a Python program to concatenate all elements in a list into a string and return it."
   ]
  },
  {
   "cell_type": "code",
   "execution_count": null,
   "metadata": {},
   "outputs": [],
   "source": [
    "def list_to_str(my_list):\n",
    "    s = ''\n",
    "    for i in my_list:\n",
    "        s += str(i)\n",
    "    return s\n",
    "\n",
    "print(list_to_str([1,4,'c','5','y']))"
   ]
  },
  {
   "cell_type": "markdown",
   "metadata": {},
   "source": [
    "28. Write a Python program to print all even numbers from a given numbers list in the same order and stop the printing if any numbers that come after 237 in the sequence. Go to the editor\n",
    "Sample numbers list :\n",
    "\n",
    "numbers = [    \n",
    "    386, 462, 47, 418, 907, 344, 236, 375, 823, 566, 597, 978, 328, 615, 953, 345, \n",
    "    399, 162, 758, 219, 918, 237, 412, 566, 826, 248, 866, 950, 626, 949, 687, 217, \n",
    "    815, 67, 104, 58, 512, 24, 892, 894, 767, 553, 81, 379, 843, 831, 445, 742, 717, \n",
    "    958,743, 527\n",
    "    ]"
   ]
  },
  {
   "cell_type": "code",
   "execution_count": null,
   "metadata": {},
   "outputs": [],
   "source": [
    "numbers = [\n",
    "386, 462, 47, 418, 907, 344, 236, 375, 823, 566, 597, 978, 328, 615, 953, 345, 399, 162, 758, 219, 918, 237, 412, 566, 826, 248, 866, 950, 626, 949, 687, 217, 815, 67, 104, 58, 512, 24, 892, 894, 767, 553, 81, 379, 843, 831, 445, 742, 717, 958,743, 527 ]\n",
    "for n in numbers:\n",
    "    if n == 237:\n",
    "        break\n",
    "    elif n%2 == 0:\n",
    "        print(n)\n"
   ]
  },
  {
   "cell_type": "markdown",
   "metadata": {},
   "source": [
    "29. Write a Python program to print out a set containing all the colors from color_list_1 which are not present in color_list_2.\n",
    "\n",
    "Test Data :\n",
    "\n",
    "color_list_1 = set([\"White\", \"Black\", \"Red\"])\n",
    "\n",
    "color_list_2 = set([\"Red\", \"Green\"])\n",
    "\n",
    "Expected Output :\n",
    "{'Black', 'White'}"
   ]
  },
  {
   "cell_type": "code",
   "execution_count": null,
   "metadata": {},
   "outputs": [],
   "source": [
    "color_list_1 = set([\"White\", \"Black\", \"Red\"])\n",
    "color_list_2 = set([\"Red\", \"Green\"])\n",
    "print(color_list_1.difference(color_list_2))"
   ]
  },
  {
   "cell_type": "markdown",
   "metadata": {},
   "source": [
    "30. Write a Python program that will accept the base and height of a triangle and compute the area."
   ]
  },
  {
   "cell_type": "code",
   "execution_count": null,
   "metadata": {},
   "outputs": [],
   "source": [
    "base = int(input(\"Please enter the base of the triangle\"))\n",
    "height = int(input(\"Please enter the height of the triangle\"))\n",
    "print(\"Area of the triangle is: \", base*height/2)"
   ]
  },
  {
   "cell_type": "markdown",
   "metadata": {},
   "source": [
    "31. Write a Python program to compute the greatest common divisor (GCD) of two positive integers."
   ]
  },
  {
   "cell_type": "code",
   "execution_count": null,
   "metadata": {},
   "outputs": [],
   "source": [
    "def gcd(num1, num2):\n",
    "    for n in range(num1,1,-1):\n",
    "        #print(n)\n",
    "        if num1%n == 0:\n",
    "            if num2%n == 0:\n",
    "                return n\n",
    "\n",
    "print(\"GCD is: \",gcd(45,20))"
   ]
  },
  {
   "cell_type": "markdown",
   "metadata": {},
   "source": [
    "32. Write a Python program to get the least common multiple (LCM) of two positive integers."
   ]
  },
  {
   "cell_type": "code",
   "execution_count": null,
   "metadata": {},
   "outputs": [],
   "source": [
    "def lcm(num1,num2):\n",
    "    if num1>num2:\n",
    "        z = num1\n",
    "    else:\n",
    "        z = num2\n",
    "    for n in range(z,num1*num2,1):\n",
    "        #print(n)\n",
    "        if n%num1 == 0:\n",
    "            if n%num2 == 0:\n",
    "                return n\n",
    "print(lcm(30,20))"
   ]
  },
  {
   "cell_type": "markdown",
   "metadata": {},
   "source": [
    "33. Write a Python program to sum of three given integers. However, if two values are equal sum will be zero."
   ]
  },
  {
   "cell_type": "code",
   "execution_count": null,
   "metadata": {},
   "outputs": [],
   "source": [
    "def sum_integer(a,b,c):\n",
    "    if a==b or b==c or a==c:\n",
    "        return 0\n",
    "    else:\n",
    "        return a+b+c\n",
    "\n",
    "print(sum_integer(3,4,5))"
   ]
  },
  {
   "cell_type": "markdown",
   "metadata": {},
   "source": [
    "34. Write a Python program to sum of two given integers. However, if the sum is between 15 to 20 it will return 20."
   ]
  },
  {
   "cell_type": "code",
   "execution_count": null,
   "metadata": {},
   "outputs": [],
   "source": [
    "def conditional_sum(a,b):\n",
    "    if a+b in range(15,20):\n",
    "        return 20\n",
    "    else:\n",
    "        return a+b\n",
    "\n",
    "print(conditional_sum(7,7))"
   ]
  },
  {
   "cell_type": "markdown",
   "metadata": {},
   "source": [
    "35. Write a Python program that will return true if the two given integer values are equal or their sum or difference is 5."
   ]
  },
  {
   "cell_type": "code",
   "execution_count": null,
   "metadata": {},
   "outputs": [],
   "source": [
    "def conditional_pgm(a,b):\n",
    "    if a==b or a+b == 5 or abs(a-b)==5:\n",
    "        return True\n",
    "    return False\n",
    "print(conditional_pgm(2,10))"
   ]
  },
  {
   "cell_type": "markdown",
   "metadata": {},
   "source": [
    "36. Write a Python program to add two objects if both objects are an integer type."
   ]
  },
  {
   "cell_type": "code",
   "execution_count": null,
   "metadata": {},
   "outputs": [],
   "source": [
    "def int_check(a,b):\n",
    "    if type(a)==int and type(b)==int:\n",
    "        return a+b\n",
    "\n",
    "print(int_check(5,'a'))"
   ]
  },
  {
   "cell_type": "markdown",
   "metadata": {},
   "source": [
    "37. Write a Python program to display your details like name, age, address in three different lines."
   ]
  },
  {
   "cell_type": "code",
   "execution_count": null,
   "metadata": {},
   "outputs": [],
   "source": [
    "name='Harprit'\n",
    "age=27\n",
    "address='Address'\n",
    "print(f\"Name:{name}\\nAge:{age}\\nAddress:{address}\")"
   ]
  },
  {
   "cell_type": "markdown",
   "metadata": {},
   "source": [
    "38. Write a Python program to solve (x + y) * (x + y).\n",
    "\n",
    "Test Data : x = 4, y = 3\n",
    "\n",
    "Expected Output : (4 + 3) ^ 2) = 49"
   ]
  },
  {
   "cell_type": "code",
   "execution_count": null,
   "metadata": {},
   "outputs": [],
   "source": [
    "def equation_sol(x,y):\n",
    "    return (x+y)*(x+y)\n",
    "equation_sol(4,3)"
   ]
  },
  {
   "cell_type": "markdown",
   "metadata": {},
   "source": [
    "39. Write a Python program to compute the future value of a specified principal amount, rate of interest, and a number of years.\n",
    "\n",
    "Test Data : amt = 10000, int = 3.5, years = 7\n",
    "\n",
    "Expected Output : 12722.79"
   ]
  },
  {
   "cell_type": "code",
   "execution_count": null,
   "metadata": {},
   "outputs": [],
   "source": [
    "def interest_calculator(amt,interest,years):\n",
    "    return amt*(1+interest/100)**years\n",
    "round(interest_calculator(10000,3.5,7),2)"
   ]
  },
  {
   "cell_type": "markdown",
   "metadata": {},
   "source": [
    "40. Write a Python program to compute the distance between the points (x1, y1) and (x2, y2)."
   ]
  },
  {
   "cell_type": "code",
   "execution_count": null,
   "metadata": {},
   "outputs": [],
   "source": [
    "def distance_bw_2_points(p1,p2):\n",
    "    return ((p1[0]-p2[0])**2+(p1[1]-p2[1])**2)**(1/2)\n",
    "\n",
    "distance_bw_2_points([4,0],[6,6])"
   ]
  },
  {
   "cell_type": "markdown",
   "metadata": {},
   "source": [
    "41. Write a Python program to check whether a file exists."
   ]
  },
  {
   "cell_type": "code",
   "execution_count": null,
   "metadata": {},
   "outputs": [],
   "source": [
    "import os.path\n",
    "open('abdc.txt','w')\n",
    "print(os.path.isfile('abdc.txt'))"
   ]
  },
  {
   "cell_type": "markdown",
   "metadata": {},
   "source": [
    "42. Write a Python program to determine if a Python shell is executing in 32bit or 64bit mode on OS."
   ]
  },
  {
   "cell_type": "code",
   "execution_count": null,
   "metadata": {},
   "outputs": [],
   "source": [
    "import struct\n",
    "a = struct.calcsize(\"P\"*8)\n",
    "print(a)"
   ]
  },
  {
   "cell_type": "markdown",
   "metadata": {},
   "source": [
    "43. Write a Python program to get OS name, platform and release information."
   ]
  },
  {
   "cell_type": "code",
   "execution_count": null,
   "metadata": {},
   "outputs": [],
   "source": [
    "import platform\n",
    "import os\n",
    "print(\"OS : \",os.name)\n",
    "print(platform.system())\n",
    "print(platform.release())"
   ]
  },
  {
   "cell_type": "markdown",
   "metadata": {},
   "source": [
    "44. Write a Python program to locate Python site-packages."
   ]
  },
  {
   "cell_type": "code",
   "execution_count": null,
   "metadata": {},
   "outputs": [],
   "source": [
    "import site\n",
    "print(site.getsitepackages())"
   ]
  },
  {
   "cell_type": "markdown",
   "metadata": {},
   "source": [
    "45. Write a python program to call an external command in Python."
   ]
  },
  {
   "cell_type": "code",
   "execution_count": null,
   "metadata": {},
   "outputs": [],
   "source": [
    "from subprocess import call\n",
    "call([\"ls\", \"-l\"])"
   ]
  },
  {
   "cell_type": "code",
   "execution_count": null,
   "metadata": {},
   "outputs": [],
   "source": [
    "9153.80-555.78-532.25-513.58-238.54-902.22-542.79-691.28-318.86-451.92-215.01-314-323.73"
   ]
  },
  {
   "cell_type": "markdown",
   "metadata": {},
   "source": [
    "46. Write a python program to get the path and name of the file that is currently executing."
   ]
  },
  {
   "cell_type": "code",
   "execution_count": null,
   "metadata": {},
   "outputs": [],
   "source": [
    "import os\n",
    "print(\"Current File Name : \",os.path.realpath(__file__))"
   ]
  },
  {
   "cell_type": "markdown",
   "metadata": {},
   "source": [
    "47. Write a Python program to find out the number of CPUs using."
   ]
  },
  {
   "cell_type": "code",
   "execution_count": null,
   "metadata": {},
   "outputs": [],
   "source": [
    "import multiprocessing\n",
    "print(multiprocessing.cpu_count())"
   ]
  },
  {
   "cell_type": "markdown",
   "metadata": {},
   "source": [
    "48. Write a Python program to parse a string to Float or Integer."
   ]
  },
  {
   "cell_type": "code",
   "execution_count": null,
   "metadata": {},
   "outputs": [],
   "source": [
    "n = \"245.67\"\n",
    "print(float(n))\n",
    "print(int(float(n)))"
   ]
  },
  {
   "cell_type": "markdown",
   "metadata": {},
   "source": [
    "49. Write a Python program to list all files in a directory in Python"
   ]
  },
  {
   "cell_type": "markdown",
   "metadata": {},
   "source": [
    "50. Write a Python program to print without newline or space."
   ]
  },
  {
   "cell_type": "code",
   "execution_count": null,
   "metadata": {},
   "outputs": [],
   "source": [
    "for i in range(0, 10):\n",
    "    print('*', end=\"\")\n",
    "print(\"\\n\")"
   ]
  },
  {
   "cell_type": "markdown",
   "metadata": {},
   "source": [
    "51. Write a Python program to determine profiling of Python programs.\n",
    "Note: A profile is a set of statistics that describes how often and for how long various parts of the program executed. These statistics can be formatted into reports via the pstats module."
   ]
  },
  {
   "cell_type": "code",
   "execution_count": null,
   "metadata": {},
   "outputs": [],
   "source": [
    "import cProfile\n",
    "def sum():\n",
    "    print(1+2)\n",
    "cProfile.run('sum()')"
   ]
  },
  {
   "cell_type": "markdown",
   "metadata": {},
   "source": [
    "52. Write a Python program to print to stderr."
   ]
  },
  {
   "cell_type": "code",
   "execution_count": null,
   "metadata": {},
   "outputs": [],
   "source": [
    "from __future__ import print_function\n",
    "import sys\n",
    "\n",
    "def eprint(*args, **kwargs):\n",
    "    print(*args, file=sys.stderr, **kwargs)\n",
    "\n",
    "eprint(\"abc\", \"efg\", \"xyz\", sep=\"--\")"
   ]
  },
  {
   "cell_type": "markdown",
   "metadata": {},
   "source": [
    "53. Write a python program to access environment variables."
   ]
  },
  {
   "cell_type": "code",
   "execution_count": null,
   "metadata": {},
   "outputs": [],
   "source": [
    "import os\n",
    "# Access all environment variables \n",
    "print('*----------------------------------*')\n",
    "print(os.environ)\n",
    "print('*----------------------------------*')\n",
    "# Access a particular environment variable \n",
    "print(os.environ['HOME'])\n",
    "print('*----------------------------------*')\n",
    "print(os.environ['PATH'])\n",
    "print('*----------------------------------*')"
   ]
  },
  {
   "cell_type": "markdown",
   "metadata": {},
   "source": [
    "54. Write a Python program to get the current username"
   ]
  },
  {
   "cell_type": "code",
   "execution_count": null,
   "metadata": {},
   "outputs": [],
   "source": [
    "import getpass\n",
    "print(getpass.getuser())"
   ]
  },
  {
   "cell_type": "markdown",
   "metadata": {},
   "source": [
    "55. Write a Python to find local IP addresses using Python's stdlib"
   ]
  },
  {
   "cell_type": "code",
   "execution_count": null,
   "metadata": {},
   "outputs": [],
   "source": [
    "import socket\n",
    "s = socket.socket(socket.AF_INET, socket.SOCK_DGRAM)\n",
    "s.connect((\"8.8.8.8\", 80))\n",
    "print(s.getsockname()[0])\n",
    "s.close()"
   ]
  },
  {
   "cell_type": "markdown",
   "metadata": {},
   "source": [
    "56. Write a Python program to get height and width of the console window."
   ]
  },
  {
   "cell_type": "code",
   "execution_count": null,
   "metadata": {},
   "outputs": [],
   "source": [
    "import os\n",
    "import cProfile\n",
    "print(os.get_terminal_size())\n",
    "cProfile.run('os.get_terminal_size()')"
   ]
  },
  {
   "cell_type": "markdown",
   "metadata": {},
   "source": [
    "57. Write a program to get execution time for a Python method."
   ]
  },
  {
   "cell_type": "code",
   "execution_count": null,
   "metadata": {},
   "outputs": [],
   "source": [
    "import time\n",
    "def dummy_method(num):\n",
    "    sums = 0\n",
    "    for n in range(0, num):\n",
    "        if n % 3 == 0 or n % 5 == 0:\n",
    "            sums += n\n",
    "    return sums\n",
    "start = time.time()\n",
    "print(dummy_method(1000000000))\n",
    "end = time.time()\n",
    "print(f\"time run the methof is: {end-start}\")"
   ]
  },
  {
   "cell_type": "markdown",
   "metadata": {},
   "source": [
    "58. Write a python program to find the sum of the first n positive integers."
   ]
  },
  {
   "cell_type": "code",
   "execution_count": null,
   "metadata": {},
   "outputs": [],
   "source": [
    "def add_first_integers(n):\n",
    "    return int(n*(n+1)/2)\n",
    "\n",
    "print(add_first_integers(10))"
   ]
  },
  {
   "cell_type": "markdown",
   "metadata": {},
   "source": [
    "59. Write a Python program to convert height (in feet and inches) to centimeters."
   ]
  },
  {
   "cell_type": "code",
   "execution_count": null,
   "metadata": {},
   "outputs": [],
   "source": [
    "def height_converter(fromval,toval='cm',value=0):\n",
    "    if fromval == 'inch':\n",
    "        return value*2.54\n",
    "    elif fromval == 'feet':\n",
    "        return value*30.48\n",
    "\n",
    "print(height_converter('inch','cm',5))"
   ]
  },
  {
   "cell_type": "markdown",
   "metadata": {},
   "source": [
    "60. Write a Python program to calculate the hypotenuse of a right angled triangle."
   ]
  },
  {
   "cell_type": "code",
   "execution_count": null,
   "metadata": {},
   "outputs": [],
   "source": [
    "import math\n",
    "height = float(input(\"Please enter the height of the triangle\"))\n",
    "base = float(input(\"Please enter the length of base of the triangle\"))\n",
    "print(\"Hypotenuse: \",math.sqrt(height*height+base*base))"
   ]
  },
  {
   "cell_type": "markdown",
   "metadata": {},
   "source": [
    "61. Write a Python program to convert the distance (in feet) to inches, yards, and miles."
   ]
  },
  {
   "cell_type": "markdown",
   "metadata": {},
   "source": [
    "62. Write a Python program to convert all units of time into seconds."
   ]
  },
  {
   "cell_type": "markdown",
   "metadata": {},
   "source": [
    "63. Write a Python program to get an absolute file path."
   ]
  },
  {
   "cell_type": "markdown",
   "metadata": {},
   "source": [
    "64. Write a Python program to get file creation and modification date/times."
   ]
  },
  {
   "cell_type": "markdown",
   "metadata": {},
   "source": [
    "65. Write a Python program to convert seconds to day, hour, minutes and seconds."
   ]
  },
  {
   "cell_type": "markdown",
   "metadata": {},
   "source": [
    "66. Write a Python program to calculate body mass index."
   ]
  },
  {
   "cell_type": "code",
   "execution_count": null,
   "metadata": {},
   "outputs": [],
   "source": [
    "height = float(input(\"Input your height in meters: \"))\n",
    "weight = float(input(\"Input your weight in kilogram: \"))\n",
    "print(\"Your body mass index is: \", round(weight / (height * height), 2))"
   ]
  },
  {
   "cell_type": "markdown",
   "metadata": {},
   "source": [
    "67. Write a Python program to convert pressure in kilopascals to pounds per square inch, a millimeter of mercury (mmHg) and atmosphere pressure."
   ]
  },
  {
   "cell_type": "markdown",
   "metadata": {},
   "source": [
    "68. Write a Python program to calculate the sum of the digits in an integer."
   ]
  },
  {
   "cell_type": "code",
   "execution_count": null,
   "metadata": {},
   "outputs": [],
   "source": [
    "def sum_integers(num):\n",
    "    s = str(num)\n",
    "    sums = 0\n",
    "    for i in s:\n",
    "        sums += int(i)\n",
    "    return sums\n",
    "\n",
    "print(sum_integers(995))"
   ]
  },
  {
   "cell_type": "markdown",
   "metadata": {},
   "source": [
    "69. Write a Python program to sort three integers without using conditional statements and loops."
   ]
  },
  {
   "cell_type": "code",
   "execution_count": null,
   "metadata": {},
   "outputs": [],
   "source": [
    "n1 = int(input(\"Enter the first number\"))\n",
    "n2 = int(input(\"Enter the 2nd number\"))\n",
    "n3 = int(input(\"Enter the 3rd number\"))\n",
    "l1 = [n1,n2,n3]\n",
    "l1.sort()\n",
    "#print(l1)\n",
    "print(l1[0],' ',l1[1],' ',l1[2])"
   ]
  },
  {
   "cell_type": "markdown",
   "metadata": {},
   "source": [
    "70. Write a Python program to sort files by date."
   ]
  },
  {
   "cell_type": "code",
   "execution_count": null,
   "metadata": {},
   "outputs": [],
   "source": [
    "import glob\n",
    "import os\n",
    "\n",
    "files = glob.glob(\"*.txt\")\n",
    "files.sort(key=os.path.getmtime)\n",
    "print(\"\\n\".join(files))"
   ]
  },
  {
   "cell_type": "markdown",
   "metadata": {},
   "source": [
    "71. Write a Python program to get a directory listing, sorted by creation date."
   ]
  },
  {
   "cell_type": "code",
   "execution_count": null,
   "metadata": {},
   "outputs": [],
   "source": [
    "from stat import S_ISREG, ST_CTIME, ST_MODE\n",
    "import os, sys, time\n",
    "\n",
    "#Relative or absolute path to the directory\n",
    "dir_path = sys.argv[1] if len(sys.argv) == 2 else r'.'\n",
    "\n",
    "#all entries in the directory w/ stats\n",
    "data = (os.path.join(dir_path, fn) for fn in os.listdir(dir_path))\n",
    "data = ((os.stat(path), path) for path in data)\n",
    "\n",
    "# regular files, insert creation date\n",
    "data = ((stat[ST_CTIME], path)\n",
    "           for stat, path in data if S_ISREG(stat[ST_MODE]))\n",
    "\n",
    "for cdate, path in sorted(data):\n",
    "    print(time.ctime(cdate), os.path.basename(path))"
   ]
  },
  {
   "cell_type": "markdown",
   "metadata": {},
   "source": [
    "72. Write a Python program to get the details of math module."
   ]
  },
  {
   "cell_type": "code",
   "execution_count": null,
   "metadata": {},
   "outputs": [],
   "source": [
    "# Imports the math module\n",
    "import math            \n",
    "#Sets everything to a list of math module\n",
    "math_ls = dir(math) # \n",
    "print(math_ls)"
   ]
  },
  {
   "cell_type": "markdown",
   "metadata": {},
   "source": [
    "73. Write a Python program to calculate midpoints of a line."
   ]
  },
  {
   "cell_type": "code",
   "execution_count": null,
   "metadata": {},
   "outputs": [],
   "source": [
    "'''\n",
    "Formula = (x1 + x2)/2, (y1+y2)/2\n",
    "'''"
   ]
  },
  {
   "cell_type": "markdown",
   "metadata": {},
   "source": [
    "74. Write a Python program to hash a word."
   ]
  },
  {
   "cell_type": "code",
   "execution_count": 41,
   "metadata": {},
   "outputs": [
    {
     "name": "stdout",
     "output_type": "stream",
     "text": [
      "Input the word be hashed: laila\n",
      "0\n",
      "-8\n",
      "-11\n",
      "0\n",
      "\n",
      "The coded word is: Lqlhq\n",
      "\n"
     ]
    }
   ],
   "source": [
    "# Hash a word means to mask or encrypt a word. check article https://techterms.com/definition/hash\n",
    "'''\n",
    "The below program fetches the unicode values of the letters or numbers put in the ord function in for loop.\n",
    "ord('a') = 97 ~ ord('z') = 122.\n",
    "65-ord(a) is a number. Then the coded string addition picks up the value from soundex list and puts that in place of the actual\n",
    "letter\n",
    "'''\n",
    "\n",
    "\n",
    "#soundex=[0,1,2,3,0,1,2,0,0,2,2,4,5,5,0,1,2,6,2,3,0,1,0,2,0,2]\n",
    "#soundex=[0,1,2,3,4,5,6,7,8,9,10,11,12,13,14,15,16,17,18,19,20,21,22,23,24,25,26] \n",
    "soundex=['q','w','e','r','t','y','u','i','o','p','a','s','d','f','g','h','j','k','l','z','x','c','v','b','n','m']\n",
    "\n",
    "word=input(\"Input the word be hashed: \")\n",
    " \n",
    "word=word.upper()\n",
    " \n",
    "coded=word[0]\n",
    " \n",
    "for a in word[1:len(word)]:\n",
    "    i=65-ord(a)\n",
    "    print(i)\n",
    "    coded=coded+str(soundex[i])\n",
    "print() \n",
    "print(\"The coded word is: \"+coded)\n",
    "print()"
   ]
  },
  {
   "cell_type": "markdown",
   "metadata": {},
   "source": [
    "76. Write a Python program to get the command-line arguments (name of the script, the number of arguments, arguments) passed to a script."
   ]
  },
  {
   "cell_type": "code",
   "execution_count": 2,
   "metadata": {},
   "outputs": [
    {
     "name": "stdout",
     "output_type": "stream",
     "text": [
      "This is the name/path of the script:\n",
      "Number of arguments: 3\n",
      "Argument List: ['C:\\\\Users\\\\harpr\\\\Anaconda3\\\\lib\\\\site-packages\\\\ipykernel_launcher.py', '-f', 'C:\\\\Users\\\\harpr\\\\AppData\\\\Roaming\\\\jupyter\\\\runtime\\\\kernel-e91a2d87-b9e5-450a-8cba-df03b9c44b62.json']\n"
     ]
    }
   ],
   "source": [
    "import sys\n",
    "print(\"This is the name/path of the script:\"),sys.argv[0]\n",
    "print(\"Number of arguments:\",len(sys.argv))\n",
    "print(\"Argument List:\",str(sys.argv))"
   ]
  },
  {
   "cell_type": "markdown",
   "metadata": {},
   "source": [
    "77. Write a Python program to test whether the system is a big-endian platform or little-endian platform."
   ]
  },
  {
   "cell_type": "code",
   "execution_count": 4,
   "metadata": {},
   "outputs": [
    {
     "name": "stdout",
     "output_type": "stream",
     "text": [
      "little\n",
      "little-endian\n"
     ]
    }
   ],
   "source": [
    "import sys\n",
    "print(sys.byteorder)\n",
    "if sys.byteorder == 'little':\n",
    "    print(\"little-endian\")\n",
    "else:\n",
    "    print(\"big-endian\",sys.byteorder)"
   ]
  },
  {
   "cell_type": "markdown",
   "metadata": {},
   "source": [
    "78. Write a Python program to find the available built-in modules."
   ]
  },
  {
   "cell_type": "code",
   "execution_count": 7,
   "metadata": {},
   "outputs": [
    {
     "name": "stdout",
     "output_type": "stream",
     "text": [
      "('_abc', '_ast', '_bisect', '_blake2', '_codecs', '_codecs_cn', '_codecs_hk', '_codecs_iso2022', '_codecs_jp', '_codecs_kr', '_codecs_tw', '_collections', '_contextvars', '_csv', '_datetime', '_functools', '_heapq', '_imp', '_io', '_json', '_locale', '_lsprof', '_md5', '_multibytecodec', '_opcode', '_operator', '_pickle', '_random', '_sha1', '_sha256', '_sha3', '_sha512', '_signal', '_sre', '_stat', '_string', '_struct', '_symtable', '_thread', '_tracemalloc', '_warnings', '_weakref', '_winapi', 'array', 'atexit', 'audioop', 'binascii', 'builtins', 'cmath', 'errno', 'faulthandler', 'gc', 'itertools', 'marshal', 'math', 'mmap', 'msvcrt', 'nt', 'parser', 'sys', 'time', 'winreg', 'xxsubtype', 'zipimport', 'zlib')\n"
     ]
    }
   ],
   "source": [
    "import sys\n",
    "import textwrap\n",
    "#module_name = ', '.join(sorted(sys.builtin_module_names))\n",
    "#print(textwrap.fill(module_name, width=70))\n",
    "print(sys.builtin_module_names)"
   ]
  },
  {
   "cell_type": "markdown",
   "metadata": {},
   "source": [
    "79. Write a Python program to get the size of an object in bytes."
   ]
  },
  {
   "cell_type": "code",
   "execution_count": 14,
   "metadata": {},
   "outputs": [
    {
     "name": "stdout",
     "output_type": "stream",
     "text": [
      "54\n"
     ]
    }
   ],
   "source": [
    "import sys\n",
    "str1 = 'opokk'\n",
    "print(sys.getsizeof(str1))"
   ]
  },
  {
   "cell_type": "markdown",
   "metadata": {},
   "source": [
    "80. Write a Python program to get the current value of the recursion limit."
   ]
  },
  {
   "cell_type": "code",
   "execution_count": 15,
   "metadata": {},
   "outputs": [
    {
     "name": "stdout",
     "output_type": "stream",
     "text": [
      "3000\n"
     ]
    }
   ],
   "source": [
    "import sys\n",
    "print(sys.getrecursionlimit())"
   ]
  },
  {
   "cell_type": "markdown",
   "metadata": {},
   "source": [
    "81. Write a Python program to concatenate N strings."
   ]
  },
  {
   "cell_type": "code",
   "execution_count": 18,
   "metadata": {},
   "outputs": [
    {
     "name": "stdout",
     "output_type": "stream",
     "text": [
      "k-j-b-k-j-d-n-b-k-d-i-d-g-n-j-d-k-d-f-n-b-k-j\n"
     ]
    }
   ],
   "source": [
    "str1 = 'kjbkjdnbkd'\n",
    "str2 = 'idgnjdk'\n",
    "str3 = 'dfnbkj'\n",
    "str4 = '-'.join(str1+str2+str3)\n",
    "print(str4)"
   ]
  },
  {
   "cell_type": "markdown",
   "metadata": {},
   "source": [
    "82. Write a Python program to calculate the sum over a container."
   ]
  },
  {
   "cell_type": "code",
   "execution_count": 19,
   "metadata": {},
   "outputs": [
    {
     "name": "stdout",
     "output_type": "stream",
     "text": [
      "47\n"
     ]
    }
   ],
   "source": [
    "s = sum([10,12,25])\n",
    "print(s)"
   ]
  },
  {
   "cell_type": "markdown",
   "metadata": {},
   "source": [
    "83. Write a Python program to test whether all numbers of a list is greater than a certain number."
   ]
  },
  {
   "cell_type": "code",
   "execution_count": 25,
   "metadata": {},
   "outputs": [
    {
     "name": "stdout",
     "output_type": "stream",
     "text": [
      "True\n",
      "False\n"
     ]
    }
   ],
   "source": [
    "s = [10,24,25,12,34,546,67,5667,4,353]\n",
    "print(min(s)>1)\n",
    "print(max(s)<1)"
   ]
  },
  {
   "cell_type": "markdown",
   "metadata": {},
   "source": [
    "84. Write a Python program to count the number occurrence of a specific character in a string."
   ]
  },
  {
   "cell_type": "code",
   "execution_count": 30,
   "metadata": {},
   "outputs": [
    {
     "name": "stdout",
     "output_type": "stream",
     "text": [
      "3\n"
     ]
    }
   ],
   "source": [
    "str1 = 'kjbkjdnbkd'\n",
    "print(str1.count('k'))"
   ]
  },
  {
   "cell_type": "markdown",
   "metadata": {},
   "source": [
    "85. Write a Python program to check whether a file path is a file or a directory."
   ]
  },
  {
   "cell_type": "code",
   "execution_count": 31,
   "metadata": {},
   "outputs": [
    {
     "name": "stdout",
     "output_type": "stream",
     "text": [
      "\n",
      "It is a normal file\n",
      "\n"
     ]
    }
   ],
   "source": [
    "import os  \n",
    "path=\"abc.txt\"  \n",
    "if os.path.isdir(path):  \n",
    "    print(\"\\nIt is a directory\")  \n",
    "elif os.path.isfile(path):  \n",
    "    print(\"\\nIt is a normal file\")  \n",
    "else:  \n",
    "    print(\"It is a special file (socket, FIFO, device file)\" )\n",
    "print()"
   ]
  },
  {
   "cell_type": "markdown",
   "metadata": {},
   "source": [
    "86. Write a Python program to get the ASCII value of a character."
   ]
  },
  {
   "cell_type": "code",
   "execution_count": 42,
   "metadata": {},
   "outputs": [
    {
     "name": "stdout",
     "output_type": "stream",
     "text": [
      "97\n"
     ]
    }
   ],
   "source": [
    "print(ord('a'))"
   ]
  },
  {
   "cell_type": "markdown",
   "metadata": {},
   "source": [
    "87. Write a Python program to get the size of a file."
   ]
  },
  {
   "cell_type": "code",
   "execution_count": 43,
   "metadata": {},
   "outputs": [
    {
     "name": "stdout",
     "output_type": "stream",
     "text": [
      "\n",
      "The size of abc.txt is : 0 Bytes\n",
      "\n"
     ]
    }
   ],
   "source": [
    "import os\n",
    "file_size = os.path.getsize(\"abc.txt\")\n",
    "print(\"\\nThe size of abc.txt is :\",file_size,\"Bytes\")\n",
    "print()"
   ]
  },
  {
   "cell_type": "markdown",
   "metadata": {},
   "source": [
    "88. Given variables x=30 and y=20, write a Python program to print \"30+20=50\"."
   ]
  },
  {
   "cell_type": "code",
   "execution_count": 47,
   "metadata": {},
   "outputs": [
    {
     "name": "stdout",
     "output_type": "stream",
     "text": [
      "\n",
      "30+20=50\n"
     ]
    }
   ],
   "source": [
    "x = 30\n",
    "y = 20\n",
    "#print(f\"{x}+{y}={x+y}\")\n",
    "print('\\n%d+%d=%d'%(x,y,x+y))"
   ]
  },
  {
   "cell_type": "markdown",
   "metadata": {},
   "source": [
    "89. Write a Python program to perform an action if a condition is true. Go to the editor\n",
    "Given a variable name, if the value is 1, display the string \"First day of a Month!\" and do nothing if the value is not equal."
   ]
  },
  {
   "cell_type": "code",
   "execution_count": 49,
   "metadata": {},
   "outputs": [
    {
     "name": "stdout",
     "output_type": "stream",
     "text": [
      "First day of a Month!\n"
     ]
    }
   ],
   "source": [
    "if 1+2==3:\n",
    "    print(\"First day of a Month!\")"
   ]
  },
  {
   "cell_type": "markdown",
   "metadata": {},
   "source": [
    "90. Write a Python program to create a copy of its own source code."
   ]
  },
  {
   "cell_type": "code",
   "execution_count": 50,
   "metadata": {},
   "outputs": [
    {
     "name": "stdout",
     "output_type": "stream",
     "text": [
      "\n",
      "print(lambda str='print(lambda str=%r: (str %% str))()': (str % str))()\n",
      "\n"
     ]
    }
   ],
   "source": [
    "print()\n",
    "print((lambda str='print(lambda str=%r: (str %% str))()': (str % str))())\n",
    "print()"
   ]
  },
  {
   "cell_type": "markdown",
   "metadata": {},
   "source": [
    "91. Write a Python program to swap two variables."
   ]
  },
  {
   "cell_type": "code",
   "execution_count": 51,
   "metadata": {},
   "outputs": [
    {
     "name": "stdout",
     "output_type": "stream",
     "text": [
      "5\n",
      "4\n"
     ]
    }
   ],
   "source": [
    "a = 4\n",
    "b = 5\n",
    "a,b = b,a\n",
    "print(a)\n",
    "print(b)"
   ]
  },
  {
   "cell_type": "markdown",
   "metadata": {},
   "source": [
    "92. Write a Python program to define a string containing special characters in various forms."
   ]
  },
  {
   "cell_type": "code",
   "execution_count": 52,
   "metadata": {},
   "outputs": [
    {
     "name": "stdout",
     "output_type": "stream",
     "text": [
      "\\#{'}${\"}@/\n",
      "\\#{'}${\"}@/\n",
      "\\#{'}${\"}@/\n",
      "\\#{'}${\"}@/\n",
      "\\#{'}${\"}@/\n",
      "\\#{'}${\"}@/\n"
     ]
    }
   ],
   "source": [
    "print(\"\\#{'}${\\\"}@/\")\n",
    "print(\"\\#{'}${\"'\"'\"}@/\")\n",
    "print(r\"\"\"\\#{'}${\"}@/\"\"\")\n",
    "print('\\#{\\'}${\"}@/')\n",
    "print('\\#{'\"'\"'}${\"}@/')\n",
    "print(r'''\\#{'}${\"}@/''')"
   ]
  },
  {
   "cell_type": "markdown",
   "metadata": {},
   "source": [
    "93. Write a Python program to get the identity of an object."
   ]
  },
  {
   "cell_type": "code",
   "execution_count": 53,
   "metadata": {},
   "outputs": [
    {
     "name": "stdout",
     "output_type": "stream",
     "text": [
      "2038951110816\n"
     ]
    }
   ],
   "source": [
    "obj = object()\n",
    "print(id(obj))"
   ]
  },
  {
   "cell_type": "markdown",
   "metadata": {},
   "source": [
    "94. Write a Python program to convert a byte string to a list of integers."
   ]
  },
  {
   "cell_type": "code",
   "execution_count": 56,
   "metadata": {},
   "outputs": [
    {
     "name": "stdout",
     "output_type": "stream",
     "text": [
      "[65, 98, 103]\n",
      "b'Abg'\n"
     ]
    }
   ],
   "source": [
    "x = b'Abg'\n",
    "print(list(x))\n",
    "print(x)"
   ]
  },
  {
   "cell_type": "markdown",
   "metadata": {},
   "source": [
    "95. Write a Python program to check whether a string is numeric."
   ]
  },
  {
   "cell_type": "code",
   "execution_count": 58,
   "metadata": {},
   "outputs": [
    {
     "name": "stdout",
     "output_type": "stream",
     "text": [
      "\n",
      "Not numeric\n",
      "\n"
     ]
    }
   ],
   "source": [
    "str = 'a123'\n",
    "#str = '123'\n",
    "try:\n",
    "    i = float(str)\n",
    "except (ValueError, TypeError):\n",
    "    print('\\nNot numeric')\n",
    "print()"
   ]
  },
  {
   "cell_type": "markdown",
   "metadata": {},
   "source": [
    "96. Write a Python program to print the current call stack."
   ]
  },
  {
   "cell_type": "code",
   "execution_count": 59,
   "metadata": {},
   "outputs": [
    {
     "name": "stdout",
     "output_type": "stream",
     "text": [
      "\n",
      "\n"
     ]
    },
    {
     "name": "stderr",
     "output_type": "stream",
     "text": [
      "  File \"C:\\Users\\harpr\\Anaconda3\\lib\\runpy.py\", line 193, in _run_module_as_main\n",
      "    \"__main__\", mod_spec)\n",
      "  File \"C:\\Users\\harpr\\Anaconda3\\lib\\runpy.py\", line 85, in _run_code\n",
      "    exec(code, run_globals)\n",
      "  File \"C:\\Users\\harpr\\Anaconda3\\lib\\site-packages\\ipykernel_launcher.py\", line 16, in <module>\n",
      "    app.launch_new_instance()\n",
      "  File \"C:\\Users\\harpr\\Anaconda3\\lib\\site-packages\\traitlets\\config\\application.py\", line 664, in launch_instance\n",
      "    app.start()\n",
      "  File \"C:\\Users\\harpr\\Anaconda3\\lib\\site-packages\\ipykernel\\kernelapp.py\", line 563, in start\n",
      "    self.io_loop.start()\n",
      "  File \"C:\\Users\\harpr\\Anaconda3\\lib\\site-packages\\tornado\\platform\\asyncio.py\", line 148, in start\n",
      "    self.asyncio_loop.run_forever()\n",
      "  File \"C:\\Users\\harpr\\Anaconda3\\lib\\asyncio\\base_events.py\", line 534, in run_forever\n",
      "    self._run_once()\n",
      "  File \"C:\\Users\\harpr\\Anaconda3\\lib\\asyncio\\base_events.py\", line 1771, in _run_once\n",
      "    handle._run()\n",
      "  File \"C:\\Users\\harpr\\Anaconda3\\lib\\asyncio\\events.py\", line 88, in _run\n",
      "    self._context.run(self._callback, *self._args)\n",
      "  File \"C:\\Users\\harpr\\Anaconda3\\lib\\site-packages\\tornado\\ioloop.py\", line 690, in <lambda>\n",
      "    lambda f: self._run_callback(functools.partial(callback, future))\n",
      "  File \"C:\\Users\\harpr\\Anaconda3\\lib\\site-packages\\tornado\\ioloop.py\", line 743, in _run_callback\n",
      "    ret = callback()\n",
      "  File \"C:\\Users\\harpr\\Anaconda3\\lib\\site-packages\\tornado\\gen.py\", line 787, in inner\n",
      "    self.run()\n",
      "  File \"C:\\Users\\harpr\\Anaconda3\\lib\\site-packages\\tornado\\gen.py\", line 748, in run\n",
      "    yielded = self.gen.send(value)\n",
      "  File \"C:\\Users\\harpr\\Anaconda3\\lib\\site-packages\\ipykernel\\kernelbase.py\", line 365, in process_one\n",
      "    yield gen.maybe_future(dispatch(*args))\n",
      "  File \"C:\\Users\\harpr\\Anaconda3\\lib\\site-packages\\tornado\\gen.py\", line 209, in wrapper\n",
      "    yielded = next(result)\n",
      "  File \"C:\\Users\\harpr\\Anaconda3\\lib\\site-packages\\ipykernel\\kernelbase.py\", line 272, in dispatch_shell\n",
      "    yield gen.maybe_future(handler(stream, idents, msg))\n",
      "  File \"C:\\Users\\harpr\\Anaconda3\\lib\\site-packages\\tornado\\gen.py\", line 209, in wrapper\n",
      "    yielded = next(result)\n",
      "  File \"C:\\Users\\harpr\\Anaconda3\\lib\\site-packages\\ipykernel\\kernelbase.py\", line 542, in execute_request\n",
      "    user_expressions, allow_stdin,\n",
      "  File \"C:\\Users\\harpr\\Anaconda3\\lib\\site-packages\\tornado\\gen.py\", line 209, in wrapper\n",
      "    yielded = next(result)\n",
      "  File \"C:\\Users\\harpr\\Anaconda3\\lib\\site-packages\\ipykernel\\ipkernel.py\", line 294, in do_execute\n",
      "    res = shell.run_cell(code, store_history=store_history, silent=silent)\n",
      "  File \"C:\\Users\\harpr\\Anaconda3\\lib\\site-packages\\ipykernel\\zmqshell.py\", line 536, in run_cell\n",
      "    return super(ZMQInteractiveShell, self).run_cell(*args, **kwargs)\n",
      "  File \"C:\\Users\\harpr\\Anaconda3\\lib\\site-packages\\IPython\\core\\interactiveshell.py\", line 2855, in run_cell\n",
      "    raw_cell, store_history, silent, shell_futures)\n",
      "  File \"C:\\Users\\harpr\\Anaconda3\\lib\\site-packages\\IPython\\core\\interactiveshell.py\", line 2881, in _run_cell\n",
      "    return runner(coro)\n",
      "  File \"C:\\Users\\harpr\\Anaconda3\\lib\\site-packages\\IPython\\core\\async_helpers.py\", line 68, in _pseudo_sync_runner\n",
      "    coro.send(None)\n",
      "  File \"C:\\Users\\harpr\\Anaconda3\\lib\\site-packages\\IPython\\core\\interactiveshell.py\", line 3058, in run_cell_async\n",
      "    interactivity=interactivity, compiler=compiler, result=result)\n",
      "  File \"C:\\Users\\harpr\\Anaconda3\\lib\\site-packages\\IPython\\core\\interactiveshell.py\", line 3249, in run_ast_nodes\n",
      "    if (await self.run_code(code, result,  async_=asy)):\n",
      "  File \"C:\\Users\\harpr\\Anaconda3\\lib\\site-packages\\IPython\\core\\interactiveshell.py\", line 3326, in run_code\n",
      "    exec(code_obj, self.user_global_ns, self.user_ns)\n",
      "  File \"<ipython-input-59-46d52883091b>\", line 5, in <module>\n",
      "    f1()\n",
      "  File \"<ipython-input-59-46d52883091b>\", line 3, in f1\n",
      "    def f1():return abc()\n",
      "  File \"<ipython-input-59-46d52883091b>\", line 4, in abc\n",
      "    def abc():traceback.print_stack()\n"
     ]
    }
   ],
   "source": [
    "import traceback\n",
    "print()\n",
    "def f1():return abc()\n",
    "def abc():traceback.print_stack()\n",
    "f1()\n",
    "print()"
   ]
  },
  {
   "cell_type": "markdown",
   "metadata": {},
   "source": [
    "97. Write a Python program to list the special variables used within the language."
   ]
  },
  {
   "cell_type": "code",
   "execution_count": 60,
   "metadata": {},
   "outputs": [
    {
     "name": "stdout",
     "output_type": "stream",
     "text": [
      "\n",
      "ArithmeticError AssertionError AttributeError BaseException BlockingIOError BrokenPipeError BufferError BytesWarning\n",
      "ChildProcessError ConnectionAbortedError ConnectionError ConnectionRefusedError ConnectionResetError DeprecationWarning EOFError Ellipsis\n",
      "EnvironmentError Exception False FileExistsError FileNotFoundError FloatingPointError FutureWarning GeneratorExit\n",
      "IOError ImportError ImportWarning In IndentationError IndexError InterruptedError IsADirectoryError\n",
      "KeyError KeyboardInterrupt LookupError MemoryError ModuleNotFoundError NameError None NotADirectoryError\n",
      "NotImplemented NotImplementedError OSError Out OverflowError PendingDeprecationWarning PermissionError ProcessLookupError\n",
      "RecursionError ReferenceError ResourceWarning RuntimeError RuntimeWarning StopAsyncIteration StopIteration SyntaxError\n",
      "SyntaxWarning SystemError SystemExit TabError TimeoutError True TypeError UnboundLocalError\n",
      "UnicodeDecodeError UnicodeEncodeError UnicodeError UnicodeTranslateError UnicodeWarning UserWarning ValueError Warning\n",
      "WindowsError ZeroDivisionError __ __IPYTHON__ ___ __build_class__ __builtin__ __builtins__\n",
      "__debug__ __doc__ __import__ __loader__ __name__ __package__ __spec__ _dh\n",
      "_i _i1 _i10 _i11 _i12 _i13 _i14 _i15\n",
      "_i16 _i17 _i18 _i19 _i2 _i20 _i21 _i22\n",
      "_i23 _i24 _i25 _i26 _i27 _i28 _i29 _i3\n",
      "_i30 _i31 _i32 _i33 _i34 _i35 _i36 _i37\n",
      "_i38 _i39 _i4 _i40 _i41 _i42 _i43 _i44\n",
      "_i45 _i46 _i47 _i48 _i49 _i5 _i50 _i51\n",
      "_i52 _i53 _i54 _i55 _i56 _i57 _i58 _i59\n",
      "_i6 _i60 _i7 _i8 _i9 _ih _ii _iii\n",
      "_oh a abc abs all any ascii b\n",
      "bin bool breakpoint bytearray bytes callable chr classmethod\n",
      "coded compile complex copyright count credits delattr dict\n",
      "dir display divmod enumerate eval exec exit f1\n",
      "file_size filter float format frozenset get_ipython getattr globals\n",
      "hasattr hash help hex id input int isinstance\n",
      "issubclass iter len license list locals map max\n",
      "memoryview min module_name next obj object oct open\n",
      "ord os path pow print property quit range\n",
      "repr reversed round s s1 set setattr slice\n",
      "sorted soundex staticmethod str str1 str2 str3 str4\n",
      "sum super sys textwrap traceback tuple type vars\n",
      "word x y zip\n",
      "\n"
     ]
    }
   ],
   "source": [
    "s_var_names = sorted((set(globals().keys()) | set(__builtins__.__dict__.keys())) - set('_ names i'.split()))\n",
    "print()\n",
    "print( '\\n'.join(' '.join(s_var_names[i:i+8]) for i in range(0, len(s_var_names), 8)) )\n",
    "print()"
   ]
  },
  {
   "cell_type": "markdown",
   "metadata": {},
   "source": [
    "98. Write a Python program to get the system time."
   ]
  },
  {
   "cell_type": "code",
   "execution_count": 64,
   "metadata": {},
   "outputs": [
    {
     "name": "stdout",
     "output_type": "stream",
     "text": [
      "Wed Dec  2 17:54:24 2020\n"
     ]
    }
   ],
   "source": [
    "import time\n",
    "print(time.ctime())"
   ]
  },
  {
   "cell_type": "markdown",
   "metadata": {},
   "source": [
    "99. Write a Python program to clear the screen or terminal."
   ]
  },
  {
   "cell_type": "code",
   "execution_count": 65,
   "metadata": {},
   "outputs": [
    {
     "data": {
      "text/plain": [
       "1"
      ]
     },
     "execution_count": 65,
     "metadata": {},
     "output_type": "execute_result"
    }
   ],
   "source": [
    "import os\n",
    "import time\n",
    "# for windows\n",
    "# os.system('cls')\n",
    "os.system(\"ls\")\n",
    "time.sleep(2)\n",
    "# Ubuntu version 10.10\n",
    "os.system('clear')"
   ]
  },
  {
   "cell_type": "markdown",
   "metadata": {},
   "source": [
    "100. Write a Python program to get the name of the host on which the routine is running."
   ]
  },
  {
   "cell_type": "code",
   "execution_count": 66,
   "metadata": {},
   "outputs": [
    {
     "name": "stdout",
     "output_type": "stream",
     "text": [
      "\n",
      "Host name: DESKTOP-RSVUMR0\n",
      "\n"
     ]
    }
   ],
   "source": [
    "import socket\n",
    "host_name = socket.gethostname()\n",
    "print()\n",
    "print(\"Host name:\", host_name)\n",
    "print()"
   ]
  },
  {
   "cell_type": "markdown",
   "metadata": {},
   "source": [
    "101. Write a Python program to access and print a URL's content to the console."
   ]
  },
  {
   "cell_type": "code",
   "execution_count": 67,
   "metadata": {},
   "outputs": [
    {
     "name": "stdout",
     "output_type": "stream",
     "text": [
      "b'<!doctype html>\\n<html>\\n<head>\\n    <title>Example Domain</title>\\n\\n    <meta charset=\"utf-8\" />\\n    <meta http-equiv=\"Content-type\" content=\"text/html; charset=utf-8\" />\\n    <meta name=\"viewport\" content=\"width=device-width, initial-scale=1\" />\\n    <style type=\"text/css\">\\n    body {\\n        background-color: #f0f0f2;\\n        margin: 0;\\n        padding: 0;\\n        font-family: -apple-system, system-ui, BlinkMacSystemFont, \"Segoe UI\", \"Open Sans\", \"Helvetica Neue\", Helvetica, Arial, sans-serif;\\n        \\n    }\\n    div {\\n        width: 600px;\\n        margin: 5em auto;\\n        padding: 2em;\\n        background-color: #fdfdff;\\n        border-radius: 0.5em;\\n        box-shadow: 2px 3px 7px 2px rgba(0,0,0,0.02);\\n    }\\n    a:link, a:visited {\\n        color: #38488f;\\n        text-decoration: none;\\n    }\\n    @media (max-width: 700px) {\\n        div {\\n            margin: 0 auto;\\n            width: auto;\\n        }\\n    }\\n    </style>    \\n</head>\\n\\n<body>\\n<div>\\n    <h1>Example Domain</h1>\\n    <p>This domain is for use in illustrative examples in documents. You may use this\\n    domain in literature without prior coordination or asking for permission.</p>\\n    <p><a href=\"https://www.iana.org/domains/example\">More information...</a></p>\\n</div>\\n</body>\\n</html>\\n'\n"
     ]
    }
   ],
   "source": [
    "from http.client import HTTPConnection\n",
    "conn = HTTPConnection(\"example.com\")\n",
    "conn.request(\"GET\", \"/\")  \n",
    "result = conn.getresponse()\n",
    "# retrieves the entire contents.  \n",
    "contents = result.read() \n",
    "print(contents)"
   ]
  },
  {
   "cell_type": "markdown",
   "metadata": {},
   "source": [
    "102. Write a Python program to get system command output."
   ]
  },
  {
   "cell_type": "code",
   "execution_count": 68,
   "metadata": {},
   "outputs": [
    {
     "name": "stdout",
     "output_type": "stream",
     "text": [
      "dir command to list file and directory\n",
      " Volume in drive C is OS\n",
      " Volume Serial Number is 9AA0-C835\n",
      "\n",
      " Directory of C:\\Users\\harpr\\Desktop\\Python Notes\\Assignments\n",
      "\n",
      "12/03/2020  09:46 AM    <DIR>          .\n",
      "12/03/2020  09:46 AM    <DIR>          ..\n",
      "11/27/2020  03:30 PM    <DIR>          .ipynb_checkpoints\n",
      "11/28/2020  09:02 PM                 0 abc.txt\n",
      "11/28/2020  09:02 PM                 0 abdc.txt\n",
      "11/27/2020  03:33 PM               179 Assignments_link.txt\n",
      "12/03/2020  09:46 AM            61,407 Basic Part-1.ipynb\n",
      "               4 File(s)         61,586 bytes\n",
      "               3 Dir(s)  290,956,562,432 bytes free\n",
      "\n"
     ]
    }
   ],
   "source": [
    "import subprocess\n",
    "# file and directory listing\n",
    "returned_text = subprocess.check_output(\"dir\", shell=True, universal_newlines=True)\n",
    "print(\"dir command to list file and directory\")\n",
    "print(returned_text)"
   ]
  },
  {
   "cell_type": "markdown",
   "metadata": {},
   "source": [
    "103. Write a Python program to extract the filename from a given path."
   ]
  },
  {
   "cell_type": "code",
   "execution_count": 69,
   "metadata": {},
   "outputs": [
    {
     "name": "stdout",
     "output_type": "stream",
     "text": [
      "\n",
      "homework-1.py\n",
      "\n"
     ]
    }
   ],
   "source": [
    "import os\n",
    "print()\n",
    "print(os.path.basename('/users/system1/student1/homework-1.py'))\n",
    "print()"
   ]
  },
  {
   "cell_type": "markdown",
   "metadata": {},
   "source": [
    "104. Write a Python program to get the effective group id, effective user id, real group id, a list of supplemental group ids associated with the current process.\n",
    "Note: Availability: Unix."
   ]
  },
  {
   "cell_type": "code",
   "execution_count": 71,
   "metadata": {},
   "outputs": [
    {
     "ename": "AttributeError",
     "evalue": "module 'os' has no attribute 'getegid'",
     "output_type": "error",
     "traceback": [
      "\u001b[1;31m---------------------------------------------------------------------------\u001b[0m",
      "\u001b[1;31mAttributeError\u001b[0m                            Traceback (most recent call last)",
      "\u001b[1;32m<ipython-input-71-696908b3f28e>\u001b[0m in \u001b[0;36m<module>\u001b[1;34m\u001b[0m\n\u001b[0;32m      1\u001b[0m \u001b[1;32mimport\u001b[0m \u001b[0mos\u001b[0m\u001b[1;33m\u001b[0m\u001b[1;33m\u001b[0m\u001b[0m\n\u001b[1;32m----> 2\u001b[1;33m \u001b[0mprint\u001b[0m\u001b[1;33m(\u001b[0m\u001b[1;34m\"\\nEffective group id: \"\u001b[0m\u001b[1;33m,\u001b[0m\u001b[0mos\u001b[0m\u001b[1;33m.\u001b[0m\u001b[0mgetegid\u001b[0m\u001b[1;33m(\u001b[0m\u001b[1;33m)\u001b[0m\u001b[1;33m)\u001b[0m\u001b[1;33m\u001b[0m\u001b[1;33m\u001b[0m\u001b[0m\n\u001b[0m\u001b[0;32m      3\u001b[0m \u001b[0mprint\u001b[0m\u001b[1;33m(\u001b[0m\u001b[1;34m\"Effective user id: \"\u001b[0m\u001b[1;33m,\u001b[0m\u001b[0mos\u001b[0m\u001b[1;33m.\u001b[0m\u001b[0mgeteuid\u001b[0m\u001b[1;33m(\u001b[0m\u001b[1;33m)\u001b[0m\u001b[1;33m)\u001b[0m\u001b[1;33m\u001b[0m\u001b[1;33m\u001b[0m\u001b[0m\n\u001b[0;32m      4\u001b[0m \u001b[0mprint\u001b[0m\u001b[1;33m(\u001b[0m\u001b[1;34m\"Real group id: \"\u001b[0m\u001b[1;33m,\u001b[0m\u001b[0mos\u001b[0m\u001b[1;33m.\u001b[0m\u001b[0mgetgid\u001b[0m\u001b[1;33m(\u001b[0m\u001b[1;33m)\u001b[0m\u001b[1;33m)\u001b[0m\u001b[1;33m\u001b[0m\u001b[1;33m\u001b[0m\u001b[0m\n\u001b[0;32m      5\u001b[0m \u001b[0mprint\u001b[0m\u001b[1;33m(\u001b[0m\u001b[1;34m\"List of supplemental group ids: \"\u001b[0m\u001b[1;33m,\u001b[0m\u001b[0mos\u001b[0m\u001b[1;33m.\u001b[0m\u001b[0mgetgroups\u001b[0m\u001b[1;33m(\u001b[0m\u001b[1;33m)\u001b[0m\u001b[1;33m)\u001b[0m\u001b[1;33m\u001b[0m\u001b[1;33m\u001b[0m\u001b[0m\n",
      "\u001b[1;31mAttributeError\u001b[0m: module 'os' has no attribute 'getegid'"
     ]
    }
   ],
   "source": [
    "import os\n",
    "print(\"\\nEffective group id: \",os.getegid())\n",
    "print(\"Effective user id: \",os.geteuid())\n",
    "print(\"Real group id: \",os.getgid())\n",
    "print(\"List of supplemental group ids: \",os.getgroups())\n",
    "print()"
   ]
  },
  {
   "cell_type": "markdown",
   "metadata": {},
   "source": [
    "105. Write a Python program to get the users environment."
   ]
  },
  {
   "cell_type": "code",
   "execution_count": 74,
   "metadata": {},
   "outputs": [
    {
     "name": "stdout",
     "output_type": "stream",
     "text": [
      "environ({'ALLUSERSPROFILE': 'C:\\\\ProgramData', 'APPDATA': 'C:\\\\Users\\\\harpr\\\\AppData\\\\Roaming', 'COMMONPROGRAMFILES': 'C:\\\\Program Files\\\\Common Files', 'COMMONPROGRAMFILES(X86)': 'C:\\\\Program Files (x86)\\\\Common Files', 'COMMONPROGRAMW6432': 'C:\\\\Program Files\\\\Common Files', 'COMPUTERNAME': 'DESKTOP-RSVUMR0', 'COMSPEC': 'C:\\\\WINDOWS\\\\system32\\\\cmd.exe', 'CONDA_DEFAULT_ENV': 'base', 'CONDA_EXE': 'C:\\\\Users\\\\harpr\\\\Anaconda3\\\\Scripts\\\\conda.exe', 'CONDA_PROMPT_MODIFIER': '(base) ', 'CONDA_PYTHON_EXE': 'C:\\\\Users\\\\harpr\\\\Anaconda3\\\\python.exe', 'CONDA_ROOT': 'C:\\\\Users\\\\harpr\\\\Anaconda3', 'CONDA_SHLVL': '1', 'DRIVERDATA': 'C:\\\\Windows\\\\System32\\\\Drivers\\\\DriverData', 'HOMEDRIVE': 'C:', 'HOMEPATH': '\\\\Users\\\\harpr', 'LOCALAPPDATA': 'C:\\\\Users\\\\harpr\\\\AppData\\\\Local', 'LOGONSERVER': '\\\\\\\\DESKTOP-RSVUMR0', 'NUMBER_OF_PROCESSORS': '8', 'ONEDRIVE': 'C:\\\\Users\\\\harpr\\\\OneDrive', 'ONEDRIVECONSUMER': 'C:\\\\Users\\\\harpr\\\\OneDrive', 'OS': 'Windows_NT', 'PATH': 'C:\\\\Users\\\\harpr\\\\Anaconda3;C:\\\\Users\\\\harpr\\\\Anaconda3\\\\Library\\\\mingw-w64\\\\bin;C:\\\\Users\\\\harpr\\\\Anaconda3\\\\Library\\\\usr\\\\bin;C:\\\\Users\\\\harpr\\\\Anaconda3\\\\Library\\\\bin;C:\\\\Users\\\\harpr\\\\Anaconda3\\\\Scripts;C:\\\\Users\\\\harpr\\\\Anaconda3\\\\bin;C:\\\\Users\\\\harpr\\\\Anaconda3\\\\condabin;C:\\\\Users\\\\harpr\\\\Anaconda3;C:\\\\Users\\\\harpr\\\\Anaconda3\\\\Library\\\\mingw-w64\\\\bin;C:\\\\Users\\\\harpr\\\\Anaconda3\\\\Library\\\\usr\\\\bin;C:\\\\Users\\\\harpr\\\\Anaconda3\\\\Library\\\\bin;C:\\\\Users\\\\harpr\\\\Anaconda3\\\\Scripts;C:\\\\WINDOWS\\\\system32;C:\\\\WINDOWS;C:\\\\WINDOWS\\\\System32\\\\Wbem;C:\\\\WINDOWS\\\\System32\\\\WindowsPowerShell\\\\v1.0;C:\\\\WINDOWS\\\\System32\\\\OpenSSH;C:\\\\Program Files (x86)\\\\Intel\\\\Intel(R) Management Engine Components\\\\DAL;C:\\\\Program Files\\\\Intel\\\\Intel(R) Management Engine Components\\\\DAL;C:\\\\Users\\\\harpr\\\\AppData\\\\Local\\\\Programs\\\\Python\\\\Python37-32\\\\Scripts;C:\\\\Users\\\\harpr\\\\AppData\\\\Local\\\\Programs\\\\Python\\\\Python37-32;C:\\\\Users\\\\harpr\\\\AppData\\\\Local\\\\Microsoft\\\\WindowsApps;.', 'PATHEXT': '.COM;.EXE;.BAT;.CMD;.VBS;.VBE;.JS;.JSE;.WSF;.WSH;.MSC', 'PROCESSOR_ARCHITECTURE': 'AMD64', 'PROCESSOR_IDENTIFIER': 'Intel64 Family 6 Model 142 Stepping 10, GenuineIntel', 'PROCESSOR_LEVEL': '6', 'PROCESSOR_REVISION': '8e0a', 'PROGRAMDATA': 'C:\\\\ProgramData', 'PROGRAMFILES': 'C:\\\\Program Files', 'PROGRAMFILES(X86)': 'C:\\\\Program Files (x86)', 'PROGRAMW6432': 'C:\\\\Program Files', 'PROMPT': '(base) $P$G', 'PSMODULEPATH': 'C:\\\\Program Files\\\\WindowsPowerShell\\\\Modules;C:\\\\WINDOWS\\\\system32\\\\WindowsPowerShell\\\\v1.0\\\\Modules', 'PUBLIC': 'C:\\\\Users\\\\Public', 'SESSIONNAME': 'Console', 'SYSTEMDRIVE': 'C:', 'SYSTEMROOT': 'C:\\\\WINDOWS', 'TEMP': 'C:\\\\Users\\\\harpr\\\\AppData\\\\Local\\\\Temp', 'TMP': 'C:\\\\Users\\\\harpr\\\\AppData\\\\Local\\\\Temp', 'USERDOMAIN': 'DESKTOP-RSVUMR0', 'USERDOMAIN_ROAMINGPROFILE': 'DESKTOP-RSVUMR0', 'USERNAME': 'harpr', 'USERPROFILE': 'C:\\\\Users\\\\harpr', 'WINDIR': 'C:\\\\WINDOWS', 'CONDA_PREFIX': 'C:\\\\Users\\\\harpr\\\\Anaconda3', 'KERNEL_LAUNCH_TIMEOUT': '40', 'JPY_INTERRUPT_EVENT': '3692', 'IPY_INTERRUPT_EVENT': '3692', 'JPY_PARENT_PID': '3744', 'TERM': 'xterm-color', 'CLICOLOR': '1', 'PAGER': 'cat', 'GIT_PAGER': 'cat', 'MPLBACKEND': 'module://ipykernel.pylab.backend_inline'})\n"
     ]
    }
   ],
   "source": [
    "import os\n",
    "print(os.environ)"
   ]
  },
  {
   "cell_type": "markdown",
   "metadata": {},
   "source": [
    "106. Write a Python program to divide a path on the extension separator."
   ]
  },
  {
   "cell_type": "code",
   "execution_count": 75,
   "metadata": {},
   "outputs": [
    {
     "name": "stdout",
     "output_type": "stream",
     "text": [
      "\"test.txt\" : ('test', '.txt')\n",
      "\"filename\" : ('filename', '')\n",
      "\"/user/system/test.txt\" : ('/user/system/test', '.txt')\n",
      "\"/\" : ('/', '')\n",
      "\"\" : ('', '')\n"
     ]
    }
   ],
   "source": [
    "import os.path\n",
    "for path in [ 'test.txt', 'filename', '/user/system/test.txt', '/', '' ]:\n",
    "    print('\"%s\" :' % path, os.path.splitext(path))"
   ]
  },
  {
   "cell_type": "markdown",
   "metadata": {},
   "source": [
    "107. Write a Python program to retrieve file properties."
   ]
  },
  {
   "cell_type": "code",
   "execution_count": 76,
   "metadata": {},
   "outputs": [
    {
     "ename": "NameError",
     "evalue": "name '__file__' is not defined",
     "output_type": "error",
     "traceback": [
      "\u001b[1;31m---------------------------------------------------------------------------\u001b[0m",
      "\u001b[1;31mNameError\u001b[0m                                 Traceback (most recent call last)",
      "\u001b[1;32m<ipython-input-76-630a2e584b18>\u001b[0m in \u001b[0;36m<module>\u001b[1;34m\u001b[0m\n\u001b[0;32m      2\u001b[0m \u001b[1;32mimport\u001b[0m \u001b[0mtime\u001b[0m\u001b[1;33m\u001b[0m\u001b[1;33m\u001b[0m\u001b[0m\n\u001b[0;32m      3\u001b[0m \u001b[1;33m\u001b[0m\u001b[0m\n\u001b[1;32m----> 4\u001b[1;33m \u001b[0mprint\u001b[0m\u001b[1;33m(\u001b[0m\u001b[1;34m'File         :'\u001b[0m\u001b[1;33m,\u001b[0m \u001b[0m__file__\u001b[0m\u001b[1;33m)\u001b[0m\u001b[1;33m\u001b[0m\u001b[1;33m\u001b[0m\u001b[0m\n\u001b[0m\u001b[0;32m      5\u001b[0m \u001b[0mprint\u001b[0m\u001b[1;33m(\u001b[0m\u001b[1;34m'Access time  :'\u001b[0m\u001b[1;33m,\u001b[0m \u001b[0mtime\u001b[0m\u001b[1;33m.\u001b[0m\u001b[0mctime\u001b[0m\u001b[1;33m(\u001b[0m\u001b[0mos\u001b[0m\u001b[1;33m.\u001b[0m\u001b[0mpath\u001b[0m\u001b[1;33m.\u001b[0m\u001b[0mgetatime\u001b[0m\u001b[1;33m(\u001b[0m\u001b[0m__file__\u001b[0m\u001b[1;33m)\u001b[0m\u001b[1;33m)\u001b[0m\u001b[1;33m)\u001b[0m\u001b[1;33m\u001b[0m\u001b[1;33m\u001b[0m\u001b[0m\n\u001b[0;32m      6\u001b[0m \u001b[0mprint\u001b[0m\u001b[1;33m(\u001b[0m\u001b[1;34m'Modified time:'\u001b[0m\u001b[1;33m,\u001b[0m \u001b[0mtime\u001b[0m\u001b[1;33m.\u001b[0m\u001b[0mctime\u001b[0m\u001b[1;33m(\u001b[0m\u001b[0mos\u001b[0m\u001b[1;33m.\u001b[0m\u001b[0mpath\u001b[0m\u001b[1;33m.\u001b[0m\u001b[0mgetmtime\u001b[0m\u001b[1;33m(\u001b[0m\u001b[0m__file__\u001b[0m\u001b[1;33m)\u001b[0m\u001b[1;33m)\u001b[0m\u001b[1;33m)\u001b[0m\u001b[1;33m\u001b[0m\u001b[1;33m\u001b[0m\u001b[0m\n",
      "\u001b[1;31mNameError\u001b[0m: name '__file__' is not defined"
     ]
    }
   ],
   "source": [
    "import os.path\n",
    "import time\n",
    "\n",
    "print('File         :', __file__)\n",
    "print('Access time  :', time.ctime(os.path.getatime(__file__)))\n",
    "print('Modified time:', time.ctime(os.path.getmtime(__file__)))\n",
    "print('Change time  :', time.ctime(os.path.getctime(__file__)))\n",
    "print('Size         :', os.path.getsize(__file__))"
   ]
  },
  {
   "cell_type": "markdown",
   "metadata": {},
   "source": [
    "108. Write a Python program to find path refers to a file or directory when you encounter a path name."
   ]
  },
  {
   "cell_type": "markdown",
   "metadata": {},
   "source": [
    "109. Write a Python program to check if a number is positive, negative or zero."
   ]
  },
  {
   "cell_type": "code",
   "execution_count": 79,
   "metadata": {},
   "outputs": [
    {
     "name": "stdout",
     "output_type": "stream",
     "text": [
      "Enter the number0\n",
      "zero\n"
     ]
    }
   ],
   "source": [
    "num = int(input(\"Enter the number\"))\n",
    "if num>0:\n",
    "    print(\"Positive number\")\n",
    "elif num<0:\n",
    "    print(\"Negative number\")\n",
    "else:\n",
    "    print(\"zero\")"
   ]
  },
  {
   "cell_type": "markdown",
   "metadata": {},
   "source": [
    "110. Write a Python program to get numbers divisible by fifteen from a list using an anonymous function."
   ]
  },
  {
   "cell_type": "code",
   "execution_count": 80,
   "metadata": {},
   "outputs": [
    {
     "name": "stdout",
     "output_type": "stream",
     "text": [
      "number 45 is divisible by 15\n",
      "number 60 is divisible by 15\n",
      "number 105 is divisible by 15\n"
     ]
    }
   ],
   "source": [
    "num_list = [45, 55, 60, 37, 100, 105, 220]\n",
    "def devisibility_15(num_list):\n",
    "    for n in num_list:\n",
    "        if n%15==0:\n",
    "            print(f\"number {n} is divisible by 15\")\n",
    "        \n",
    "devisibility_15(num_list)"
   ]
  },
  {
   "cell_type": "code",
   "execution_count": 81,
   "metadata": {},
   "outputs": [
    {
     "name": "stdout",
     "output_type": "stream",
     "text": [
      "[45, 60, 105]\n"
     ]
    }
   ],
   "source": [
    "num_list = [45, 55, 60, 37, 100, 105, 220]\n",
    "print(list(filter(lambda x: (x%15==0),num_list)))"
   ]
  },
  {
   "cell_type": "markdown",
   "metadata": {},
   "source": [
    "111. Write a Python program to make file lists from current directory using a wildcard."
   ]
  },
  {
   "cell_type": "code",
   "execution_count": 82,
   "metadata": {},
   "outputs": [
    {
     "name": "stdout",
     "output_type": "stream",
     "text": [
      "['abc.txt', 'abdc.txt', 'Assignments_link.txt', 'Basic Part-1.ipynb']\n"
     ]
    }
   ],
   "source": [
    "import glob\n",
    "file_list = glob.glob('*.*')\n",
    "print(file_list)"
   ]
  },
  {
   "cell_type": "markdown",
   "metadata": {},
   "source": [
    "112. Write a Python program to remove the first item from a specified list."
   ]
  },
  {
   "cell_type": "code",
   "execution_count": 88,
   "metadata": {},
   "outputs": [
    {
     "data": {
      "text/plain": [
       "['White', 'Orange']"
      ]
     },
     "execution_count": 88,
     "metadata": {},
     "output_type": "execute_result"
    }
   ],
   "source": [
    "color = [\"Red\", \"Black\", \"Green\", \"White\", \"Orange\"]\n",
    "color.remove(color[0])\n",
    "del color[0:2]\n",
    "color"
   ]
  },
  {
   "cell_type": "markdown",
   "metadata": {},
   "source": [
    "113. Write a Python program to input a number, if it is not a number generate an error message."
   ]
  },
  {
   "cell_type": "code",
   "execution_count": 92,
   "metadata": {},
   "outputs": [
    {
     "name": "stdout",
     "output_type": "stream",
     "text": [
      "Please enter a numbera\n",
      "\n",
      "This is not a number. Please try again\n",
      "Please enter a numbera\n",
      "\n",
      "This is not a number. Please try again\n",
      "Please enter a numbers\n",
      "\n",
      "This is not a number. Please try again\n",
      "Please enter a numberf\n",
      "\n",
      "This is not a number. Please try again\n",
      "Please enter a number4\n"
     ]
    }
   ],
   "source": [
    "while True:\n",
    "    try:\n",
    "        int(input(\"Please enter a number\"))\n",
    "        break\n",
    "    except ValueError:\n",
    "        print(\"\\nThis is not a number. Please try again\")\n",
    "        "
   ]
  },
  {
   "cell_type": "markdown",
   "metadata": {},
   "source": [
    "114. Write a Python program to filter the positive numbers from a list."
   ]
  },
  {
   "cell_type": "code",
   "execution_count": 96,
   "metadata": {},
   "outputs": [
    {
     "name": "stdout",
     "output_type": "stream",
     "text": [
      "[34, 1]\n"
     ]
    }
   ],
   "source": [
    "nums = [34, 1, 0, -23]\n",
    "print(list(filter(lambda x: x>0, nums)))"
   ]
  },
  {
   "cell_type": "markdown",
   "metadata": {},
   "source": [
    "115. Write a Python program to compute the product of a list of integers (without using for loop)."
   ]
  },
  {
   "cell_type": "code",
   "execution_count": 97,
   "metadata": {},
   "outputs": [
    {
     "name": "stdout",
     "output_type": "stream",
     "text": [
      "Product of the numbers :  6000\n"
     ]
    }
   ],
   "source": [
    "from functools import reduce\n",
    "nums = [10, 20, 30,]\n",
    "nums_product = reduce( (lambda x, y: x * y), nums)\n",
    "print(\"Product of the numbers : \",nums_product)"
   ]
  },
  {
   "cell_type": "markdown",
   "metadata": {},
   "source": [
    "116. Write a Python program to print Unicode characters."
   ]
  },
  {
   "cell_type": "code",
   "execution_count": 99,
   "metadata": {},
   "outputs": [
    {
     "name": "stdout",
     "output_type": "stream",
     "text": [
      "\n",
      "Python Exercises - w3resource\n",
      "\n"
     ]
    }
   ],
   "source": [
    "str = u'\\u0050\\u0079\\u0074\\u0068\\u006f\\u006e \\u0045\\u0078\\u0065\\u0072\\u0063\\u0069\\u0073\\u0065\\u0073 \\u002d \\u0077\\u0033\\u0072\\u0065\\u0073\\u006f\\u0075\\u0072\\u0063\\u0065'\n",
    "print()\n",
    "print(str)\n",
    "print()\n"
   ]
  },
  {
   "cell_type": "markdown",
   "metadata": {},
   "source": [
    "117. Write a Python program to prove that two string variables of same value point same memory location."
   ]
  },
  {
   "cell_type": "code",
   "execution_count": 100,
   "metadata": {},
   "outputs": [
    {
     "name": "stdout",
     "output_type": "stream",
     "text": [
      "S1: 2038771323376\n",
      "S2: 2038771323376\n"
     ]
    }
   ],
   "source": [
    "s1 = 'abc'\n",
    "s2 = 'abc'\n",
    "print(\"S1:\",id(s1))\n",
    "print(\"S2:\",id(s2))"
   ]
  },
  {
   "cell_type": "markdown",
   "metadata": {},
   "source": [
    "118. Write a Python program to create a bytearray from a list."
   ]
  },
  {
   "cell_type": "code",
   "execution_count": 104,
   "metadata": {},
   "outputs": [
    {
     "name": "stdout",
     "output_type": "stream",
     "text": [
      "10\n",
      "20\n",
      "56\n",
      "35\n",
      "17\n",
      "99\n"
     ]
    }
   ],
   "source": [
    "nums = [10, 20, 56, 35, 17, 99]\n",
    "values = bytearray(nums)\n",
    "for x in values:\n",
    "    print(x)"
   ]
  },
  {
   "cell_type": "markdown",
   "metadata": {},
   "source": [
    "119. Write a Python program to display a floating number in specified numbers."
   ]
  },
  {
   "cell_type": "code",
   "execution_count": 105,
   "metadata": {},
   "outputs": [
    {
     "name": "stdout",
     "output_type": "stream",
     "text": [
      "\n",
      "The total order amount comes to 212.374000\n",
      "The total order amount comes to 212.37\n",
      "\n"
     ]
    }
   ],
   "source": [
    "order_amt = 212.374\n",
    "print('\\nThe total order amount comes to %f' % order_amt)\n",
    "print('The total order amount comes to %.2f' % order_amt)\n",
    "print()\n"
   ]
  },
  {
   "cell_type": "markdown",
   "metadata": {},
   "source": [
    "120. Write a Python program to format a specified string to limit the number of characters to 6."
   ]
  },
  {
   "cell_type": "code",
   "execution_count": 109,
   "metadata": {},
   "outputs": [
    {
     "name": "stdout",
     "output_type": "stream",
     "text": [
      "123456\n"
     ]
    }
   ],
   "source": [
    "\n",
    "str_num = \"1234567890\"\n",
    "print('%.6s' % str_num)"
   ]
  },
  {
   "cell_type": "markdown",
   "metadata": {},
   "source": [
    "121. Write a Python program to determine whether variable is defined or not."
   ]
  },
  {
   "cell_type": "code",
   "execution_count": 121,
   "metadata": {},
   "outputs": [
    {
     "name": "stdout",
     "output_type": "stream",
     "text": [
      "Variable doesn't exist\n"
     ]
    }
   ],
   "source": [
    "var1 = 0\n",
    "try:\n",
    "    var3\n",
    "except NameError:\n",
    "    print(f\"Variable doesn't exist\")\n",
    "else:\n",
    "    print(\"Variable exists\")"
   ]
  },
  {
   "cell_type": "markdown",
   "metadata": {},
   "source": [
    "122. Write a Python program to empty a variable without destroying it.\n",
    "\n",
    "Sample data: n=20\n",
    "d = {\"x\":200}\n",
    "Expected Output : 0\n",
    "{}"
   ]
  },
  {
   "cell_type": "code",
   "execution_count": 125,
   "metadata": {},
   "outputs": [
    {
     "name": "stdout",
     "output_type": "stream",
     "text": [
      "0\n",
      "20\n"
     ]
    }
   ],
   "source": [
    "n=20\n",
    "d = {\"x\":200}\n",
    "print(type(n)())\n",
    "print(n)"
   ]
  },
  {
   "cell_type": "markdown",
   "metadata": {},
   "source": [
    "123. Write a Python program to determine the largest and smallest integers, longs, floats."
   ]
  },
  {
   "cell_type": "code",
   "execution_count": 127,
   "metadata": {},
   "outputs": [
    {
     "name": "stdout",
     "output_type": "stream",
     "text": [
      "Maximum size of integer 9223372036854775807\n",
      "Float value information:  sys.float_info(max=1.7976931348623157e+308, max_exp=1024, max_10_exp=308, min=2.2250738585072014e-308, min_exp=-1021, min_10_exp=-307, dig=15, mant_dig=53, epsilon=2.220446049250313e-16, radix=2, rounds=1)\n",
      "\n",
      "Integer value information:  sys.int_info(bits_per_digit=30, sizeof_digit=4)\n"
     ]
    }
   ],
   "source": [
    "import sys\n",
    "print(\"Maximum size of integer\",sys.maxsize)\n",
    "print(\"Float value information: \",sys.float_info)\n",
    "print(\"\\nInteger value information: \",sys.int_info)"
   ]
  },
  {
   "cell_type": "markdown",
   "metadata": {},
   "source": [
    "124. Write a Python program to check whether multiple variables have the same value."
   ]
  },
  {
   "cell_type": "code",
   "execution_count": 130,
   "metadata": {},
   "outputs": [
    {
     "name": "stdout",
     "output_type": "stream",
     "text": [
      "20\n"
     ]
    }
   ],
   "source": [
    "import ctypes\n",
    "a = 20\n",
    "b = 20\n",
    "c = 20\n",
    "print(ctypes.cast(id(a), ctypes.py_object).value)"
   ]
  },
  {
   "cell_type": "code",
   "execution_count": 136,
   "metadata": {},
   "outputs": [
    {
     "name": "stdout",
     "output_type": "stream",
     "text": [
      "140726006686704\n",
      "140726006686704\n"
     ]
    },
    {
     "ename": "Exception",
     "evalue": "No found",
     "output_type": "error",
     "traceback": [
      "\u001b[1;31m---------------------------------------------------------------------------\u001b[0m",
      "\u001b[1;31mException\u001b[0m                                 Traceback (most recent call last)",
      "\u001b[1;32m<ipython-input-136-7fe3a8d2f02c>\u001b[0m in \u001b[0;36m<module>\u001b[1;34m\u001b[0m\n\u001b[0;32m      7\u001b[0m             \u001b[0mprint\u001b[0m\u001b[1;33m(\u001b[0m\u001b[0mobj\u001b[0m\u001b[1;33m)\u001b[0m\u001b[1;33m\u001b[0m\u001b[1;33m\u001b[0m\u001b[0m\n\u001b[0;32m      8\u001b[0m     \u001b[1;32mraise\u001b[0m \u001b[0mException\u001b[0m\u001b[1;33m(\u001b[0m\u001b[1;34m\"No found\"\u001b[0m\u001b[1;33m)\u001b[0m\u001b[1;33m\u001b[0m\u001b[1;33m\u001b[0m\u001b[0m\n\u001b[1;32m----> 9\u001b[1;33m \u001b[0mobjects_by_id\u001b[0m\u001b[1;33m(\u001b[0m\u001b[1;36m140726006686704\u001b[0m\u001b[1;33m)\u001b[0m\u001b[1;33m\u001b[0m\u001b[1;33m\u001b[0m\u001b[0m\n\u001b[0m",
      "\u001b[1;32m<ipython-input-136-7fe3a8d2f02c>\u001b[0m in \u001b[0;36mobjects_by_id\u001b[1;34m(id_)\u001b[0m\n\u001b[0;32m      6\u001b[0m         \u001b[1;32mif\u001b[0m \u001b[0mid\u001b[0m\u001b[1;33m(\u001b[0m\u001b[0mobj\u001b[0m\u001b[1;33m)\u001b[0m \u001b[1;33m==\u001b[0m \u001b[0mid_\u001b[0m\u001b[1;33m:\u001b[0m\u001b[1;33m\u001b[0m\u001b[1;33m\u001b[0m\u001b[0m\n\u001b[0;32m      7\u001b[0m             \u001b[0mprint\u001b[0m\u001b[1;33m(\u001b[0m\u001b[0mobj\u001b[0m\u001b[1;33m)\u001b[0m\u001b[1;33m\u001b[0m\u001b[1;33m\u001b[0m\u001b[0m\n\u001b[1;32m----> 8\u001b[1;33m     \u001b[1;32mraise\u001b[0m \u001b[0mException\u001b[0m\u001b[1;33m(\u001b[0m\u001b[1;34m\"No found\"\u001b[0m\u001b[1;33m)\u001b[0m\u001b[1;33m\u001b[0m\u001b[1;33m\u001b[0m\u001b[0m\n\u001b[0m\u001b[0;32m      9\u001b[0m \u001b[0mobjects_by_id\u001b[0m\u001b[1;33m(\u001b[0m\u001b[1;36m140726006686704\u001b[0m\u001b[1;33m)\u001b[0m\u001b[1;33m\u001b[0m\u001b[1;33m\u001b[0m\u001b[0m\n",
      "\u001b[1;31mException\u001b[0m: No found"
     ]
    }
   ],
   "source": [
    "import gc\n",
    "print(id(a))\n",
    "print(id(20))\n",
    "def objects_by_id(id_):\n",
    "    for obj in gc.get_objects():\n",
    "        if id(obj) == id_:\n",
    "            print(obj)\n",
    "    raise Exception(\"No found\")\n",
    "objects_by_id(140726006686704)"
   ]
  },
  {
   "cell_type": "markdown",
   "metadata": {},
   "source": [
    "125. Write a Python program to sum of all counts in a collections?"
   ]
  },
  {
   "cell_type": "code",
   "execution_count": 137,
   "metadata": {},
   "outputs": [
    {
     "name": "stdout",
     "output_type": "stream",
     "text": [
      "9\n"
     ]
    }
   ],
   "source": [
    "import collections\n",
    "num = [2,2,4,6,6,8,6,10,4]\n",
    "print(sum(collections.Counter(num).values()))"
   ]
  },
  {
   "cell_type": "markdown",
   "metadata": {},
   "source": [
    "126. Write a Python program to get the actual module object for a given object."
   ]
  },
  {
   "cell_type": "code",
   "execution_count": 138,
   "metadata": {},
   "outputs": [
    {
     "name": "stdout",
     "output_type": "stream",
     "text": [
      "<module 'math' (built-in)>\n"
     ]
    }
   ],
   "source": [
    "from inspect import getmodule\n",
    "from math import sqrt\n",
    "print(getmodule(sqrt))"
   ]
  },
  {
   "cell_type": "markdown",
   "metadata": {},
   "source": [
    "127. Write a Python program to check whether an integer fits in 64 bits."
   ]
  },
  {
   "cell_type": "code",
   "execution_count": 139,
   "metadata": {},
   "outputs": [
    {
     "name": "stdout",
     "output_type": "stream",
     "text": [
      "64\n",
      "64\n"
     ]
    }
   ],
   "source": [
    "int_val = 30\n",
    "if int_val.bit_length() <= 63:\n",
    "    print((-2 ** 63).bit_length())\n",
    "    print((2 ** 63).bit_length())"
   ]
  },
  {
   "cell_type": "markdown",
   "metadata": {},
   "source": [
    "128. Write a Python program to check whether lowercase letters exist in a string."
   ]
  },
  {
   "cell_type": "code",
   "execution_count": 141,
   "metadata": {},
   "outputs": [],
   "source": [
    "s1 = 'SDVJVAJK'\n",
    "for s in s1:\n",
    "    if s.islower():\n",
    "        print(\"String has lowercase\")\n",
    "        break\n"
   ]
  },
  {
   "cell_type": "markdown",
   "metadata": {},
   "source": [
    "129. Write a Python program to add trailing and leading zeroes to a string."
   ]
  },
  {
   "cell_type": "code",
   "execution_count": 143,
   "metadata": {},
   "outputs": [
    {
     "name": "stdout",
     "output_type": "stream",
     "text": [
      "0000ksdjdsf0000\n"
     ]
    }
   ],
   "source": [
    "s1 = 'ksdjdsf'\n",
    "print('0000'+s1+'0000')"
   ]
  },
  {
   "cell_type": "markdown",
   "metadata": {},
   "source": [
    "130. Write a Python program to use double quotes to display strings."
   ]
  },
  {
   "cell_type": "code",
   "execution_count": 145,
   "metadata": {},
   "outputs": [
    {
     "name": "stdout",
     "output_type": "stream",
     "text": [
      "\"asdkjvn\"kjnfa\"lsdav\"\n"
     ]
    }
   ],
   "source": [
    "print('\"asdkjvn\"kjnfa\"lsdav\"')"
   ]
  },
  {
   "cell_type": "markdown",
   "metadata": {},
   "source": [
    "131. Write a Python program to split a variable length string into variables."
   ]
  },
  {
   "cell_type": "code",
   "execution_count": 146,
   "metadata": {},
   "outputs": [
    {
     "name": "stdout",
     "output_type": "stream",
     "text": [
      "a b c\n",
      "100 20.25\n"
     ]
    }
   ],
   "source": [
    "var_list = ['a', 'b', 'c']\n",
    "x, y, z = (var_list + [None] * 3)[:3]\n",
    "print(x, y, z)\n",
    "var_list = [100, 20.25]\n",
    "x, y = (var_list + [None] * 2)[:2]\n",
    "print(x, y)\n"
   ]
  },
  {
   "cell_type": "markdown",
   "metadata": {},
   "source": [
    "132. Write a Python program to list home directory without absolute path."
   ]
  },
  {
   "cell_type": "code",
   "execution_count": 1,
   "metadata": {},
   "outputs": [
    {
     "name": "stdout",
     "output_type": "stream",
     "text": [
      "C:\\Users\\harpr\n"
     ]
    }
   ],
   "source": [
    "import os.path\n",
    "print(os.path.expanduser('~'))"
   ]
  },
  {
   "cell_type": "markdown",
   "metadata": {},
   "source": [
    "133. Write a Python program to calculate the time runs (difference between start and current time) of a program."
   ]
  },
  {
   "cell_type": "code",
   "execution_count": 2,
   "metadata": {},
   "outputs": [
    {
     "name": "stdout",
     "output_type": "stream",
     "text": [
      "Difference in time 0.003249645233154297\n"
     ]
    }
   ],
   "source": [
    "import time\n",
    "start_time = time.time()\n",
    "fin = 0\n",
    "for n in range(1,10000):\n",
    "    fin *= n\n",
    "end_time = time.time()\n",
    "print(f\"Difference in time {end_time-start_time}\")"
   ]
  },
  {
   "cell_type": "code",
   "execution_count": 3,
   "metadata": {},
   "outputs": [
    {
     "name": "stdout",
     "output_type": "stream",
     "text": [
      "0\n",
      "1\n",
      "2\n",
      "3\n",
      "4\n",
      "0.0005226000000106978\n",
      "0\n",
      "1\n",
      "2\n",
      "3\n",
      "4\n",
      "5\n",
      "6\n",
      "7\n",
      "8\n",
      "9\n",
      "10\n",
      "11\n",
      "12\n",
      "13\n",
      "14\n",
      "0.0012309000000527703\n"
     ]
    }
   ],
   "source": [
    "from timeit import default_timer\n",
    "def timer(n):\n",
    "    start = default_timer()\n",
    "    # some code here\n",
    "    for row in range(0,n):\n",
    "        print(row)\n",
    "    print(default_timer() - start)\n",
    "\n",
    "timer(5)\n",
    "timer(15)"
   ]
  },
  {
   "cell_type": "markdown",
   "metadata": {},
   "source": [
    "134. Write a Python program to input two integers in a single line."
   ]
  },
  {
   "cell_type": "code",
   "execution_count": 6,
   "metadata": {},
   "outputs": [
    {
     "name": "stdout",
     "output_type": "stream",
     "text": [
      "Enter first number1\n",
      "Enter second number2\n"
     ]
    }
   ],
   "source": [
    "a,b = int(input(\"Enter first number\")),int(input(\"Enter second number\"))"
   ]
  },
  {
   "cell_type": "code",
   "execution_count": 8,
   "metadata": {},
   "outputs": [
    {
     "name": "stdout",
     "output_type": "stream",
     "text": [
      "Input the value of x & y\n",
      "1 2\n",
      "The value of x & y are:  1 2\n"
     ]
    }
   ],
   "source": [
    "print(\"Input the value of x & y\")\n",
    "x, y = map(int, input().split())\n",
    "print(\"The value of x & y are: \",x,y)"
   ]
  },
  {
   "cell_type": "markdown",
   "metadata": {},
   "source": [
    "135. Write a Python program to print a variable without spaces between values. Go to the editor\n",
    "Sample value : x =30\n",
    "Expected output : Value of x is \"30\""
   ]
  },
  {
   "cell_type": "code",
   "execution_count": 10,
   "metadata": {},
   "outputs": [
    {
     "name": "stdout",
     "output_type": "stream",
     "text": [
      "Value of x is \"30\"\n"
     ]
    }
   ],
   "source": [
    "x = 30\n",
    "print(f'Value of x is \"{x}\"')"
   ]
  },
  {
   "cell_type": "markdown",
   "metadata": {},
   "source": [
    "136. Write a Python program to find files and skip directories of a given directory."
   ]
  },
  {
   "cell_type": "code",
   "execution_count": 13,
   "metadata": {},
   "outputs": [
    {
     "name": "stdout",
     "output_type": "stream",
     "text": [
      "['.condarc', 'arguments and keyword arguments.ipynb', 'List comprehensions.ipynb', 'Methods and Functions in Python.ipynb', 'my example', 'NTUSER.DAT', 'ntuser.dat.LOG1', 'ntuser.dat.LOG2', 'NTUSER.DAT{1141f964-156e-11eb-89ec-993d0ce0cb80}.TM.blf', 'NTUSER.DAT{1141f964-156e-11eb-89ec-993d0ce0cb80}.TMContainer00000000000000000001.regtrans-ms', 'NTUSER.DAT{1141f964-156e-11eb-89ec-993d0ce0cb80}.TMContainer00000000000000000002.regtrans-ms', 'ntuser.ini', 'Useful Operators in Python.ipynb', 'While loops.ipynb']\n"
     ]
    }
   ],
   "source": [
    "import os\n",
    "print([f for f in os.listdir('/Users/harpr') if os.path.isfile(os.path.join('/Users/harpr', f))])\n"
   ]
  },
  {
   "cell_type": "markdown",
   "metadata": {},
   "source": [
    "137. Write a Python program to extract single key-value pair of a dictionary in variables."
   ]
  },
  {
   "cell_type": "code",
   "execution_count": 19,
   "metadata": {},
   "outputs": [
    {
     "name": "stdout",
     "output_type": "stream",
     "text": [
      "color Green\n",
      "dict_items([('color', 'Green')])\n"
     ]
    }
   ],
   "source": [
    "d = {'color':'Green'}\n",
    "(k1,v1), = d.items()\n",
    "print(k1,v1)\n",
    "print(d.items())"
   ]
  },
  {
   "cell_type": "markdown",
   "metadata": {},
   "source": [
    "138. Write a Python program to convert true to 1 and false to 0."
   ]
  },
  {
   "cell_type": "code",
   "execution_count": 23,
   "metadata": {},
   "outputs": [
    {
     "name": "stdout",
     "output_type": "stream",
     "text": [
      "1\n",
      "0\n"
     ]
    }
   ],
   "source": [
    "print(int(True))\n",
    "print(int(False))"
   ]
  },
  {
   "cell_type": "markdown",
   "metadata": {},
   "source": [
    "139. Write a Python program to valid a IP address."
   ]
  },
  {
   "cell_type": "code",
   "execution_count": 29,
   "metadata": {},
   "outputs": [
    {
     "name": "stdout",
     "output_type": "stream",
     "text": [
      "Invalid IP\n"
     ]
    }
   ],
   "source": [
    "import socket\n",
    "addr = '127.0.000000.561'\n",
    "try:\n",
    "    socket.inet_aton(addr)\n",
    "    print('Valid IP')\n",
    "except socket.error:\n",
    "    print('Invalid IP')"
   ]
  },
  {
   "cell_type": "markdown",
   "metadata": {},
   "source": [
    "140. Write a Python program to convert an integer to binary keep leading zeros.\n",
    "\n",
    "Sample data : x=12\n",
    "\n",
    "Expected output : 00001100\n",
    "\n",
    "0000001100"
   ]
  },
  {
   "cell_type": "code",
   "execution_count": 31,
   "metadata": {},
   "outputs": [
    {
     "name": "stdout",
     "output_type": "stream",
     "text": [
      "00001100\n",
      "0000001100\n"
     ]
    }
   ],
   "source": [
    "x = 12\n",
    "print(format(x, '08b'))\n",
    "print(format(x, '010b'))"
   ]
  },
  {
   "cell_type": "markdown",
   "metadata": {},
   "source": [
    "141. Write a python program to convert decimal to hexadecimal.\n",
    "\n",
    "Sample decimal number: 30, 4\n",
    "\n",
    "Expected output: 1e, 04"
   ]
  },
  {
   "cell_type": "code",
   "execution_count": 33,
   "metadata": {},
   "outputs": [
    {
     "name": "stdout",
     "output_type": "stream",
     "text": [
      "0x1e\n",
      "0x4\n"
     ]
    }
   ],
   "source": [
    "def dectohex(num):\n",
    "    return hex(num)\n",
    "\n",
    "print(dectohex(30))\n",
    "print(dectohex(4))"
   ]
  },
  {
   "cell_type": "markdown",
   "metadata": {},
   "source": [
    "142. Write a Python program to find the operating system name, platform and platform release date.\n",
    "\n",
    "Operating system name:\n",
    "\n",
    "posix\n",
    "\n",
    "Platform name:\n",
    "\n",
    "Linux\n",
    "\n",
    "Platform release:\n",
    "\n",
    "4.4.0-47-generic"
   ]
  },
  {
   "cell_type": "code",
   "execution_count": 35,
   "metadata": {},
   "outputs": [
    {
     "name": "stdout",
     "output_type": "stream",
     "text": [
      "Operating system name:\n",
      "nt\n",
      "Platform name:\n",
      "Windows\n",
      "Platform release:\n",
      "10\n"
     ]
    }
   ],
   "source": [
    "import os, platform\n",
    "print('Operating system name:')\n",
    "print(os.name)\n",
    "print('Platform name:')\n",
    "print(platform.system())\n",
    "print('Platform release:')\n",
    "print(platform.release())"
   ]
  },
  {
   "cell_type": "markdown",
   "metadata": {},
   "source": [
    "143. Write a Python program to determine if the python shell is executing in 32bit or 64bit mode on operating system."
   ]
  },
  {
   "cell_type": "code",
   "execution_count": 41,
   "metadata": {},
   "outputs": [
    {
     "name": "stdout",
     "output_type": "stream",
     "text": [
      "64\n"
     ]
    }
   ],
   "source": [
    "import struct\n",
    "print(struct.calcsize(\"P\") * 8)\n"
   ]
  },
  {
   "cell_type": "markdown",
   "metadata": {},
   "source": [
    "144. Write a Python program to check whether variable is of integer or string."
   ]
  },
  {
   "cell_type": "code",
   "execution_count": 45,
   "metadata": {},
   "outputs": [
    {
     "name": "stdout",
     "output_type": "stream",
     "text": [
      "True\n",
      "False\n",
      "False\n"
     ]
    }
   ],
   "source": [
    "print(isinstance(25,int))\n",
    "print(isinstance([25],int) or isinstance([25],str))\n",
    "print(isinstance(\"25\",int))"
   ]
  },
  {
   "cell_type": "markdown",
   "metadata": {},
   "source": [
    "145. Write a Python program to test if a variable is a list or tuple or a set."
   ]
  },
  {
   "cell_type": "code",
   "execution_count": 46,
   "metadata": {},
   "outputs": [
    {
     "name": "stdout",
     "output_type": "stream",
     "text": [
      "True\n"
     ]
    }
   ],
   "source": [
    "print(isinstance((1,2),tuple))"
   ]
  },
  {
   "cell_type": "markdown",
   "metadata": {},
   "source": [
    "146. Write a Python program to find the location of Python module sources."
   ]
  },
  {
   "cell_type": "code",
   "execution_count": 47,
   "metadata": {},
   "outputs": [
    {
     "name": "stdout",
     "output_type": "stream",
     "text": [
      "\n",
      "List of directories in sys module:\n",
      "['C:\\\\Users\\\\harpr\\\\Desktop\\\\Python Notes\\\\Assignments', 'C:\\\\Users\\\\harpr\\\\Anaconda3\\\\python37.zip', 'C:\\\\Users\\\\harpr\\\\Anaconda3\\\\DLLs', 'C:\\\\Users\\\\harpr\\\\Anaconda3\\\\lib', 'C:\\\\Users\\\\harpr\\\\Anaconda3', '', 'C:\\\\Users\\\\harpr\\\\Anaconda3\\\\lib\\\\site-packages', 'C:\\\\Users\\\\harpr\\\\Anaconda3\\\\lib\\\\site-packages\\\\win32', 'C:\\\\Users\\\\harpr\\\\Anaconda3\\\\lib\\\\site-packages\\\\win32\\\\lib', 'C:\\\\Users\\\\harpr\\\\Anaconda3\\\\lib\\\\site-packages\\\\Pythonwin', 'C:\\\\Users\\\\harpr\\\\Anaconda3\\\\lib\\\\site-packages\\\\IPython\\\\extensions', 'C:\\\\Users\\\\harpr\\\\.ipython']\n",
      "\n",
      "List of directories in os module:\n",
      "<module 'ntpath' from 'C:\\\\Users\\\\harpr\\\\Anaconda3\\\\lib\\\\ntpath.py'>\n"
     ]
    }
   ],
   "source": [
    "import sys\n",
    "print(\"\\nList of directories in sys module:\")\n",
    "print(sys.path)\n",
    "print(\"\\nList of directories in os module:\")\n",
    "import os\n",
    "print(os.path)"
   ]
  },
  {
   "cell_type": "markdown",
   "metadata": {},
   "source": [
    "147. Write a Python function to check whether a number is divisible by another number. Accept two integers values form the user."
   ]
  },
  {
   "cell_type": "code",
   "execution_count": 50,
   "metadata": {},
   "outputs": [
    {
     "name": "stdout",
     "output_type": "stream",
     "text": [
      "Enter the first number6\n",
      "4\n",
      "6 is not divisible by 4\n"
     ]
    }
   ],
   "source": [
    "num1 = int(input(\"Enter the first number\"))\n",
    "num2 = int(input())\n",
    "if num1%num2 == 0:\n",
    "    print(f'{num1} is divisble by {num2}')\n",
    "else:\n",
    "    print(f'{num1} is not divisible by {num2}')"
   ]
  },
  {
   "cell_type": "markdown",
   "metadata": {},
   "source": [
    "148. Write a Python function to find the maximum and minimum numbers from a sequence of numbers."
   ]
  },
  {
   "cell_type": "code",
   "execution_count": 52,
   "metadata": {},
   "outputs": [
    {
     "name": "stdout",
     "output_type": "stream",
     "text": [
      "(75, -5)\n"
     ]
    }
   ],
   "source": [
    "seq = [0, 10, 15, 40, -5, 42, 17, 28, 75]\n",
    "def maxmin(s):\n",
    "    return max(s),min(s)\n",
    "\n",
    "print(maxmin(seq))"
   ]
  },
  {
   "cell_type": "markdown",
   "metadata": {},
   "source": [
    "149. Write a Python function that takes a positive integer and returns the sum of the cube of all the positive integers smaller than the specified number."
   ]
  },
  {
   "cell_type": "code",
   "execution_count": 63,
   "metadata": {},
   "outputs": [
    {
     "name": "stdout",
     "output_type": "stream",
     "text": [
      "24999998500000032499999700000001 \n",
      " 97.55508089065552\n"
     ]
    }
   ],
   "source": [
    "def cubesum(num):\n",
    "    sums = 0\n",
    "    for n in range(0,num):\n",
    "        sums += n**3\n",
    "    return sums\n",
    "\n",
    "start = time.time()\n",
    "c = cubesum(99999999)\n",
    "end_time = time.time()\n",
    "print(c,'\\n',end_time-start)"
   ]
  },
  {
   "cell_type": "markdown",
   "metadata": {},
   "source": [
    "150. Write a Python function to find a distinct pair of numbers whose product is odd from a sequence of integer values."
   ]
  },
  {
   "cell_type": "code",
   "execution_count": 59,
   "metadata": {},
   "outputs": [
    {
     "name": "stdout",
     "output_type": "stream",
     "text": [
      "[2, 4, 6, 8] None\n",
      "[1, 6, 4, 7, 8] True\n"
     ]
    }
   ],
   "source": [
    "def odd_product(nums):\n",
    "    c = 0\n",
    "    for n in nums:\n",
    "        if n%2 !=0:\n",
    "            c+=1\n",
    "        if c >1:\n",
    "            return True\n",
    "\n",
    "dt1 = [2, 4, 6, 8]\n",
    "dt2 = [1, 6, 4, 7, 8]\n",
    "print(dt1, odd_product(dt1));\n",
    "print(dt2, odd_product(dt2));"
   ]
  },
  {
   "cell_type": "code",
   "execution_count": null,
   "metadata": {},
   "outputs": [],
   "source": []
  }
 ],
 "metadata": {
  "kernelspec": {
   "display_name": "Python 3",
   "language": "python",
   "name": "python3"
  },
  "language_info": {
   "codemirror_mode": {
    "name": "ipython",
    "version": 3
   },
   "file_extension": ".py",
   "mimetype": "text/x-python",
   "name": "python",
   "nbconvert_exporter": "python",
   "pygments_lexer": "ipython3",
   "version": "3.7.4"
  }
 },
 "nbformat": 4,
 "nbformat_minor": 2
}
